{
 "cells": [
  {
   "cell_type": "markdown",
   "metadata": {},
   "source": [
    "### Pytorch Quiz\n",
    "- CNN을 활용한 모델을 만들어서 정확도 95% 이상의 Classifier를 만드세요\n",
    "- 코드 수정 가능"
   ]
  },
  {
   "cell_type": "code",
   "execution_count": 1,
   "metadata": {},
   "outputs": [],
   "source": [
    "from matplotlib import pyplot as plt\n",
    "import torch\n",
    "from torchvision import datasets\n",
    "from torchvision.transforms import ToTensor\n",
    "import torch.nn as nn\n",
    "from torch import optim\n",
    "from torch.utils.data import DataLoader"
   ]
  },
  {
   "cell_type": "markdown",
   "metadata": {},
   "source": [
    "#### Dataset download"
   ]
  },
  {
   "cell_type": "code",
   "execution_count": 2,
   "metadata": {},
   "outputs": [
    {
     "name": "stdout",
     "output_type": "stream",
     "text": [
      "Downloading http://yann.lecun.com/exdb/mnist/train-images-idx3-ubyte.gz to data/MNIST/raw/train-images-idx3-ubyte.gz\n"
     ]
    },
    {
     "data": {
      "application/vnd.jupyter.widget-view+json": {
       "model_id": "f576c8582b9446efb811228cbf222320",
       "version_major": 2,
       "version_minor": 0
      },
      "text/plain": [
       "0it [00:00, ?it/s]"
      ]
     },
     "metadata": {},
     "output_type": "display_data"
    },
    {
     "name": "stdout",
     "output_type": "stream",
     "text": [
      "Extracting data/MNIST/raw/train-images-idx3-ubyte.gz to data/MNIST/raw\n",
      "Downloading http://yann.lecun.com/exdb/mnist/train-labels-idx1-ubyte.gz to data/MNIST/raw/train-labels-idx1-ubyte.gz\n"
     ]
    },
    {
     "data": {
      "application/vnd.jupyter.widget-view+json": {
       "model_id": "b9f4b80413194017a4ab5eb4c1b1319f",
       "version_major": 2,
       "version_minor": 0
      },
      "text/plain": [
       "0it [00:00, ?it/s]"
      ]
     },
     "metadata": {},
     "output_type": "display_data"
    },
    {
     "name": "stdout",
     "output_type": "stream",
     "text": [
      "Extracting data/MNIST/raw/train-labels-idx1-ubyte.gz to data/MNIST/raw\n",
      "Downloading http://yann.lecun.com/exdb/mnist/t10k-images-idx3-ubyte.gz to data/MNIST/raw/t10k-images-idx3-ubyte.gz\n"
     ]
    },
    {
     "data": {
      "application/vnd.jupyter.widget-view+json": {
       "model_id": "5b1661405b544bf68f5c29310ef2c5b7",
       "version_major": 2,
       "version_minor": 0
      },
      "text/plain": [
       "0it [00:00, ?it/s]"
      ]
     },
     "metadata": {},
     "output_type": "display_data"
    },
    {
     "name": "stdout",
     "output_type": "stream",
     "text": [
      "Extracting data/MNIST/raw/t10k-images-idx3-ubyte.gz to data/MNIST/raw\n",
      "Downloading http://yann.lecun.com/exdb/mnist/t10k-labels-idx1-ubyte.gz to data/MNIST/raw/t10k-labels-idx1-ubyte.gz\n"
     ]
    },
    {
     "data": {
      "application/vnd.jupyter.widget-view+json": {
       "model_id": "d1cd7b815430441d8a8a64f9ca179937",
       "version_major": 2,
       "version_minor": 0
      },
      "text/plain": [
       "0it [00:00, ?it/s]"
      ]
     },
     "metadata": {},
     "output_type": "display_data"
    },
    {
     "name": "stdout",
     "output_type": "stream",
     "text": [
      "Extracting data/MNIST/raw/t10k-labels-idx1-ubyte.gz to data/MNIST/raw\n",
      "Processing...\n",
      "Done!\n"
     ]
    }
   ],
   "source": [
    "train_data = datasets.MNIST(\n",
    "    root = 'data',\n",
    "    train = True,                         \n",
    "    transform = ToTensor(), \n",
    "    download = True,            \n",
    ")\n",
    "dataloader_train = DataLoader(train_data, \n",
    "                              batch_size=16, \n",
    "                              shuffle=True)\n",
    "\n",
    "test_data = datasets.MNIST(\n",
    "    root = 'data', \n",
    "    train = False, \n",
    "    transform = ToTensor()\n",
    ")\n",
    "dataloader_test = DataLoader(test_data, \n",
    "                              batch_size=16, \n",
    "                              shuffle=True)"
   ]
  },
  {
   "cell_type": "markdown",
   "metadata": {},
   "source": [
    "### CIFAR 가져오는 예시 코드"
   ]
  },
  {
   "cell_type": "code",
   "execution_count": 32,
   "metadata": {},
   "outputs": [
    {
     "name": "stdout",
     "output_type": "stream",
     "text": [
      "Downloading https://www.cs.toronto.edu/~kriz/cifar-10-python.tar.gz to data/cifar-10-python.tar.gz\n"
     ]
    },
    {
     "data": {
      "application/vnd.jupyter.widget-view+json": {
       "model_id": "9a6b225e326d4689bac5160fc194c818",
       "version_major": 2,
       "version_minor": 0
      },
      "text/plain": [
       "0it [00:00, ?it/s]"
      ]
     },
     "metadata": {},
     "output_type": "display_data"
    },
    {
     "name": "stdout",
     "output_type": "stream",
     "text": [
      "Extracting data/cifar-10-python.tar.gz to data\n"
     ]
    }
   ],
   "source": [
    "train_data = datasets.CIFAR10(\n",
    "    root = 'data',\n",
    "    train = True,                         \n",
    "    transform = ToTensor(), \n",
    "    download = True,            \n",
    ")\n",
    "dataloader_train = DataLoader(train_data, \n",
    "                              batch_size=16, \n",
    "                              shuffle=True)\n",
    "\n",
    "test_data = datasets.MNIST(\n",
    "    root = 'data', \n",
    "    train = False, \n",
    "    transform = ToTensor()\n",
    ")\n",
    "dataloader_test = DataLoader(test_data, \n",
    "                              batch_size=16, \n",
    "                              shuffle=True)"
   ]
  },
  {
   "cell_type": "markdown",
   "metadata": {},
   "source": [
    "#### Check images"
   ]
  },
  {
   "cell_type": "code",
   "execution_count": 3,
   "metadata": {},
   "outputs": [
    {
     "data": {
      "image/png": "[encoded data removed]",
      "text/plain": [
       "<Figure size 720x576 with 25 Axes>"
      ]
     },
     "metadata": {
      "needs_background": "light"
     },
     "output_type": "display_data"
    }
   ],
   "source": [
    "figure = plt.figure(figsize=(10, 8))\n",
    "cols, rows = 5, 5\n",
    "for i in range(1, cols * rows + 1):\n",
    "    sample_idx = torch.randint(len(train_data), size=(1,)).item()\n",
    "    img, label = train_data[sample_idx]\n",
    "    figure.add_subplot(rows, cols, i)\n",
    "    plt.title(label)\n",
    "    plt.axis(\"off\")\n",
    "    plt.imshow(img.squeeze(), cmap=\"gray\")\n",
    "plt.show()"
   ]
  },
  {
   "cell_type": "markdown",
   "metadata": {},
   "source": [
    "#### CNN\n",
    "##### structure\n",
    "- Convolution 1 : channels 16, kernel size 5, stride 1, padding 2 (output resolution?)\n",
    "- ReLU\n",
    "- MaxPool : kernel_size 2, stride 2\n",
    "- Convlution 2 : channels 32, kernel size 5, stride 1, padding 2 (output resolution?)\n",
    "- Linear : output channels 10 \n",
    "\n",
    "##### https://pytorch.org/docs/1.12/nn.html"
   ]
  },
  {
   "cell_type": "code",
   "execution_count": 25,
   "metadata": {},
   "outputs": [],
   "source": [
    "class CNN(nn.Module):\n",
    "    def __init__(self):\n",
    "        super().__init__()\n",
    "        self.conv1 = nn.Conv2d(in_channels = 1,\n",
    "                               out_channels = 16,\n",
    "                               kernel_size = 5,\n",
    "                               stride = 2,\n",
    "                               padding = 2)\n",
    "        self.conv2 = nn.Conv2d(in_channels = 16,\n",
    "                               out_channels = 32,\n",
    "                               kernel_size = 5,\n",
    "                               stride = 2,\n",
    "                               padding = 2)\n",
    "        self.maxpool = nn.MaxPool2d(kernel_size = 2, stride = 2)\n",
    "        self.fc1 = nn.Linear(512,10)\n",
    "        self.relu = nn.ReLU()\n",
    "    def forward(self, x):\n",
    "        x = self.conv1(x)\n",
    "        x = self.relu(x)\n",
    "        x = self.maxpool(x)\n",
    "        x = self.conv2(x)\n",
    "        x = x.view(x.shape[0], -1)\n",
    "        x = self.fc1(x)\n",
    "        return x\n",
    "\n",
    "x = torch.randn(16,1,28,28)\n",
    "cnn = CNN()\n",
    "ret = cnn(x)"
   ]
  },
  {
   "cell_type": "markdown",
   "metadata": {},
   "source": [
    "#### Train"
   ]
  },
  {
   "cell_type": "code",
   "execution_count": 26,
   "metadata": {},
   "outputs": [],
   "source": [
    "cnn = CNN()\n",
    "loss_func = nn.CrossEntropyLoss()   \n",
    "optimizer = optim.Adam(cnn.parameters(), lr = 0.01)   "
   ]
  },
  {
   "cell_type": "code",
   "execution_count": 28,
   "metadata": {},
   "outputs": [
    {
     "name": "stdout",
     "output_type": "stream",
     "text": [
      "Epoch [1/5], Step [100], Loss: 0.3379\n",
      "Epoch [1/5], Step [200], Loss: 0.3354\n",
      "Epoch [1/5], Step [300], Loss: 0.0816\n",
      "Epoch [1/5], Step [400], Loss: 0.2206\n",
      "Epoch [1/5], Step [500], Loss: 0.6455\n",
      "Epoch [1/5], Step [600], Loss: 0.0072\n",
      "Epoch [1/5], Step [700], Loss: 0.5325\n",
      "Epoch [1/5], Step [800], Loss: 0.6849\n",
      "Epoch [1/5], Step [900], Loss: 0.0037\n",
      "Epoch [1/5], Step [1000], Loss: 0.4103\n",
      "Epoch [1/5], Step [1100], Loss: 0.4336\n",
      "Epoch [1/5], Step [1200], Loss: 0.0120\n",
      "Epoch [1/5], Step [1300], Loss: 0.3814\n",
      "Epoch [1/5], Step [1400], Loss: 0.0434\n",
      "Epoch [1/5], Step [1500], Loss: 0.3427\n",
      "Epoch [1/5], Step [1600], Loss: 1.0851\n",
      "Epoch [1/5], Step [1700], Loss: 0.5544\n",
      "Epoch [1/5], Step [1800], Loss: 0.4979\n",
      "Epoch [1/5], Step [1900], Loss: 0.0182\n",
      "Epoch [1/5], Step [2000], Loss: 0.0649\n",
      "Epoch [1/5], Step [2100], Loss: 0.9828\n",
      "Epoch [1/5], Step [2200], Loss: 0.8841\n",
      "Epoch [1/5], Step [2300], Loss: 0.0145\n",
      "Epoch [1/5], Step [2400], Loss: 0.1573\n",
      "Epoch [1/5], Step [2500], Loss: 0.0698\n",
      "Epoch [1/5], Step [2600], Loss: 1.3154\n",
      "Epoch [1/5], Step [2700], Loss: 0.1019\n",
      "Epoch [1/5], Step [2800], Loss: 0.6433\n",
      "Epoch [1/5], Step [2900], Loss: 0.5267\n",
      "Epoch [1/5], Step [3000], Loss: 0.0747\n",
      "Epoch [1/5], Step [3100], Loss: 0.3542\n",
      "Epoch [1/5], Step [3200], Loss: 0.3369\n",
      "Epoch [1/5], Step [3300], Loss: 0.1233\n",
      "Epoch [1/5], Step [3400], Loss: 0.2012\n",
      "Epoch [1/5], Step [3500], Loss: 0.1581\n",
      "Epoch [1/5], Step [3600], Loss: 0.0600\n",
      "Epoch [1/5], Step [3700], Loss: 0.0585\n",
      "Epoch [2/5], Step [100], Loss: 0.6713\n",
      "Epoch [2/5], Step [200], Loss: 0.8850\n",
      "Epoch [2/5], Step [300], Loss: 0.3238\n",
      "Epoch [2/5], Step [400], Loss: 0.1117\n",
      "Epoch [2/5], Step [500], Loss: 0.3889\n",
      "Epoch [2/5], Step [600], Loss: 0.0014\n",
      "Epoch [2/5], Step [700], Loss: 0.0267\n",
      "Epoch [2/5], Step [800], Loss: 0.0121\n",
      "Epoch [2/5], Step [900], Loss: 0.0154\n",
      "Epoch [2/5], Step [1000], Loss: 0.2725\n",
      "Epoch [2/5], Step [1100], Loss: 0.3026\n",
      "Epoch [2/5], Step [1200], Loss: 0.2871\n",
      "Epoch [2/5], Step [1300], Loss: 0.1350\n",
      "Epoch [2/5], Step [1400], Loss: 0.0943\n",
      "Epoch [2/5], Step [1500], Loss: 0.5526\n",
      "Epoch [2/5], Step [1600], Loss: 0.8246\n",
      "Epoch [2/5], Step [1700], Loss: 0.3644\n",
      "Epoch [2/5], Step [1800], Loss: 0.2218\n",
      "Epoch [2/5], Step [1900], Loss: 0.1895\n",
      "Epoch [2/5], Step [2000], Loss: 0.0070\n",
      "Epoch [2/5], Step [2100], Loss: 0.0086\n",
      "Epoch [2/5], Step [2200], Loss: 0.4367\n",
      "Epoch [2/5], Step [2300], Loss: 0.3435\n",
      "Epoch [2/5], Step [2400], Loss: 0.3630\n",
      "Epoch [2/5], Step [2500], Loss: 0.0006\n",
      "Epoch [2/5], Step [2600], Loss: 0.4415\n",
      "Epoch [2/5], Step [2700], Loss: 0.0584\n",
      "Epoch [2/5], Step [2800], Loss: 0.0865\n",
      "Epoch [2/5], Step [2900], Loss: 0.1341\n",
      "Epoch [2/5], Step [3000], Loss: 0.0086\n",
      "Epoch [2/5], Step [3100], Loss: 0.0104\n",
      "Epoch [2/5], Step [3200], Loss: 0.0618\n",
      "Epoch [2/5], Step [3300], Loss: 0.5654\n",
      "Epoch [2/5], Step [3400], Loss: 0.1063\n",
      "Epoch [2/5], Step [3500], Loss: 0.0234\n",
      "Epoch [2/5], Step [3600], Loss: 0.0118\n",
      "Epoch [2/5], Step [3700], Loss: 0.6202\n",
      "Epoch [3/5], Step [100], Loss: 0.3521\n",
      "Epoch [3/5], Step [200], Loss: 0.0491\n",
      "Epoch [3/5], Step [300], Loss: 0.2763\n",
      "Epoch [3/5], Step [400], Loss: 0.0005\n",
      "Epoch [3/5], Step [500], Loss: 0.4181\n",
      "Epoch [3/5], Step [600], Loss: 0.0348\n",
      "Epoch [3/5], Step [700], Loss: 0.5000\n",
      "Epoch [3/5], Step [800], Loss: 0.9577\n",
      "Epoch [3/5], Step [900], Loss: 0.0235\n",
      "Epoch [3/5], Step [1000], Loss: 0.4169\n",
      "Epoch [3/5], Step [1100], Loss: 0.0488\n",
      "Epoch [3/5], Step [1200], Loss: 0.0342\n",
      "Epoch [3/5], Step [1300], Loss: 0.0316\n",
      "Epoch [3/5], Step [1400], Loss: 0.0445\n",
      "Epoch [3/5], Step [1500], Loss: 0.7901\n",
      "Epoch [3/5], Step [1600], Loss: 0.0008\n",
      "Epoch [3/5], Step [1700], Loss: 0.0046\n",
      "Epoch [3/5], Step [1800], Loss: 0.0364\n",
      "Epoch [3/5], Step [1900], Loss: 1.1452\n",
      "Epoch [3/5], Step [2000], Loss: 0.8272\n",
      "Epoch [3/5], Step [2100], Loss: 0.2088\n",
      "Epoch [3/5], Step [2200], Loss: 0.7171\n",
      "Epoch [3/5], Step [2300], Loss: 0.0099\n",
      "Epoch [3/5], Step [2400], Loss: 0.4434\n",
      "Epoch [3/5], Step [2500], Loss: 0.0323\n",
      "Epoch [3/5], Step [2600], Loss: 0.7024\n",
      "Epoch [3/5], Step [2700], Loss: 0.0643\n",
      "Epoch [3/5], Step [2800], Loss: 0.3882\n",
      "Epoch [3/5], Step [2900], Loss: 0.0147\n",
      "Epoch [3/5], Step [3000], Loss: 0.1155\n",
      "Epoch [3/5], Step [3100], Loss: 0.0747\n",
      "Epoch [3/5], Step [3200], Loss: 0.0757\n",
      "Epoch [3/5], Step [3300], Loss: 0.0215\n",
      "Epoch [3/5], Step [3400], Loss: 0.2319\n",
      "Epoch [3/5], Step [3500], Loss: 0.3349\n",
      "Epoch [3/5], Step [3600], Loss: 0.1339\n",
      "Epoch [3/5], Step [3700], Loss: 0.0644\n",
      "Epoch [4/5], Step [100], Loss: 0.0228\n",
      "Epoch [4/5], Step [200], Loss: 0.1272\n",
      "Epoch [4/5], Step [300], Loss: 0.0327\n",
      "Epoch [4/5], Step [400], Loss: 0.0034\n",
      "Epoch [4/5], Step [500], Loss: 0.0751\n",
      "Epoch [4/5], Step [600], Loss: 0.3776\n",
      "Epoch [4/5], Step [700], Loss: 0.0641\n",
      "Epoch [4/5], Step [800], Loss: 0.1978\n",
      "Epoch [4/5], Step [900], Loss: 0.2176\n",
      "Epoch [4/5], Step [1000], Loss: 0.2657\n",
      "Epoch [4/5], Step [1100], Loss: 0.1242\n",
      "Epoch [4/5], Step [1200], Loss: 0.4417\n",
      "Epoch [4/5], Step [1300], Loss: 0.2325\n",
      "Epoch [4/5], Step [1400], Loss: 0.0048\n",
      "Epoch [4/5], Step [1500], Loss: 0.4643\n",
      "Epoch [4/5], Step [1600], Loss: 0.0475\n",
      "Epoch [4/5], Step [1700], Loss: 0.6044\n",
      "Epoch [4/5], Step [1800], Loss: 0.3022\n",
      "Epoch [4/5], Step [1900], Loss: 0.1734\n",
      "Epoch [4/5], Step [2000], Loss: 0.8545\n",
      "Epoch [4/5], Step [2100], Loss: 0.0395\n",
      "Epoch [4/5], Step [2200], Loss: 0.7226\n",
      "Epoch [4/5], Step [2300], Loss: 0.0002\n",
      "Epoch [4/5], Step [2400], Loss: 0.1123\n",
      "Epoch [4/5], Step [2500], Loss: 0.0089\n",
      "Epoch [4/5], Step [2600], Loss: 0.1269\n",
      "Epoch [4/5], Step [2700], Loss: 0.2005\n",
      "Epoch [4/5], Step [2800], Loss: 0.6005\n",
      "Epoch [4/5], Step [2900], Loss: 0.1775\n",
      "Epoch [4/5], Step [3000], Loss: 0.2728\n",
      "Epoch [4/5], Step [3100], Loss: 0.6687\n",
      "Epoch [4/5], Step [3200], Loss: 0.4586\n",
      "Epoch [4/5], Step [3300], Loss: 0.7271\n",
      "Epoch [4/5], Step [3400], Loss: 0.0069\n",
      "Epoch [4/5], Step [3500], Loss: 0.0058\n",
      "Epoch [4/5], Step [3600], Loss: 0.3203\n",
      "Epoch [4/5], Step [3700], Loss: 0.0314\n",
      "Epoch [5/5], Step [100], Loss: 0.3869\n",
      "Epoch [5/5], Step [200], Loss: 0.0044\n",
      "Epoch [5/5], Step [300], Loss: 0.0028\n",
      "Epoch [5/5], Step [400], Loss: 0.0973\n",
      "Epoch [5/5], Step [500], Loss: 0.0025\n",
      "Epoch [5/5], Step [600], Loss: 0.2346\n",
      "Epoch [5/5], Step [700], Loss: 0.5312\n",
      "Epoch [5/5], Step [800], Loss: 0.0460\n",
      "Epoch [5/5], Step [900], Loss: 0.3178\n",
      "Epoch [5/5], Step [1000], Loss: 0.4452\n",
      "Epoch [5/5], Step [1100], Loss: 0.1635\n",
      "Epoch [5/5], Step [1200], Loss: 0.0858\n",
      "Epoch [5/5], Step [1300], Loss: 0.3522\n",
      "Epoch [5/5], Step [1400], Loss: 0.2218\n",
      "Epoch [5/5], Step [1500], Loss: 0.5489\n",
      "Epoch [5/5], Step [1600], Loss: 0.0218\n",
      "Epoch [5/5], Step [1700], Loss: 0.0291\n",
      "Epoch [5/5], Step [1800], Loss: 0.1459\n",
      "Epoch [5/5], Step [1900], Loss: 0.0008\n",
      "Epoch [5/5], Step [2000], Loss: 0.2263\n",
      "Epoch [5/5], Step [2100], Loss: 0.4041\n",
      "Epoch [5/5], Step [2200], Loss: 0.9750\n",
      "Epoch [5/5], Step [2300], Loss: 0.1200\n",
      "Epoch [5/5], Step [2400], Loss: 0.1765\n",
      "Epoch [5/5], Step [2500], Loss: 0.1071\n",
      "Epoch [5/5], Step [2600], Loss: 0.1538\n",
      "Epoch [5/5], Step [2700], Loss: 1.1989\n",
      "Epoch [5/5], Step [2800], Loss: 0.4781\n",
      "Epoch [5/5], Step [2900], Loss: 0.4931\n",
      "Epoch [5/5], Step [3000], Loss: 0.0174\n",
      "Epoch [5/5], Step [3100], Loss: 0.0451\n",
      "Epoch [5/5], Step [3200], Loss: 0.0106\n",
      "Epoch [5/5], Step [3300], Loss: 0.3543\n",
      "Epoch [5/5], Step [3400], Loss: 0.0072\n",
      "Epoch [5/5], Step [3500], Loss: 0.0701\n",
      "Epoch [5/5], Step [3600], Loss: 0.9840\n",
      "Epoch [5/5], Step [3700], Loss: 0.1623\n"
     ]
    }
   ],
   "source": [
    "# Train the model\n",
    "num_epochs = 5\n",
    "\n",
    "for epoch in range(num_epochs):\n",
    "    for i, (images, labels) in enumerate(dataloader_train):\n",
    "        output = cnn(images)              \n",
    "        loss = loss_func(output, labels)\n",
    "\n",
    "        # clear gradients for this training step   \n",
    "        optimizer.zero_grad()           \n",
    "\n",
    "        # backpropagation, compute gradients \n",
    "        loss.backward()    \n",
    "        # apply gradients             \n",
    "        optimizer.step()                \n",
    "\n",
    "        if (i+1) % 100 == 0:\n",
    "            print ('Epoch [{}/{}], Step [{}], Loss: {:.4f}' \n",
    "                   .format(epoch + 1, num_epochs, i + 1, loss.item()))"
   ]
  },
  {
   "cell_type": "markdown",
   "metadata": {},
   "source": [
    "#### Test"
   ]
  },
  {
   "cell_type": "code",
   "execution_count": 31,
   "metadata": {},
   "outputs": [
    {
     "name": "stdout",
     "output_type": "stream",
     "text": [
      "Test Accuracy of the model on the 10000 test images: 94.88 Percent\n"
     ]
    }
   ],
   "source": [
    "cnn.eval()\n",
    "with torch.no_grad():\n",
    "    correct = 0\n",
    "    total = 0\n",
    "    for images, labels in dataloader_test:\n",
    "        test_output = cnn(images)\n",
    "        pred_y = torch.max(test_output, 1)[1].data.squeeze()\n",
    "        correct += (pred_y == labels).sum().item()\n",
    "        total += labels.size(0)\n",
    "    accuracy = correct / total * 100\n",
    "    \n",
    "print('Test Accuracy of the model on the 10000 test images: %.2f Percent' % accuracy)"
   ]
  }
 ],
 "metadata": {
  "kernelspec": {
   "display_name": "Python 3 (ipykernel)",
   "language": "python",
   "name": "python3"
  },
  "language_info": {
   "codemirror_mode": {
    "name": "ipython",
    "version": 3
   },
   "file_extension": ".py",
   "mimetype": "text/x-python",
   "name": "python",
   "nbconvert_exporter": "python",
   "pygments_lexer": "ipython3",
   "version": "3.8.13"
  }
 },
 "nbformat": 4,
 "nbformat_minor": 4
}
