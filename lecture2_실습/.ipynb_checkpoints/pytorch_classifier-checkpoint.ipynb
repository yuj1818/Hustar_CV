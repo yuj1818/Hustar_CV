{
 "cells": [
  {
   "cell_type": "markdown",
   "metadata": {},
   "source": [
    "### Pytorch - classifier\n",
    "- CNN을 활용한 모델을 만들어서 CIFAR-10에 대하여 정확도 95% 이상의 Classifier를 만드세요\n",
    "- 예제 코드는 MNIST에 대한 코드"
   ]
  },
  {
   "cell_type": "code",
   "execution_count": 1,
   "metadata": {},
   "outputs": [
    {
     "data": {
      "text/plain": [
       "<torch._C.Generator at 0x7f30414cb4b0>"
      ]
     },
     "execution_count": 1,
     "metadata": {},
     "output_type": "execute_result"
    }
   ],
   "source": [
    "from matplotlib import pyplot as plt\n",
    "import torch\n",
    "from torchvision import datasets\n",
    "from torchvision.transforms import ToTensor\n",
    "import torch.nn as nn\n",
    "from torch import optim\n",
    "from torch.utils.data import DataLoader\n",
    "\n",
    "torch.manual_seed(0) # seed 고정 - 여러번 실행해도 같은 결과가 나오도록 설정"
   ]
  },
  {
   "cell_type": "markdown",
   "metadata": {},
   "source": [
    "#### Dataset download"
   ]
  },
  {
   "cell_type": "code",
   "execution_count": 2,
   "metadata": {},
   "outputs": [
    {
     "name": "stdout",
     "output_type": "stream",
     "text": [
      "Files already downloaded and verified\n"
     ]
    }
   ],
   "source": [
    "#CIFAR10\n",
    "train_data = datasets.CIFAR10(\n",
    "    root = 'data',\n",
    "    train = True,                         \n",
    "    transform = ToTensor(), \n",
    "    download = True,            \n",
    ")\n",
    "dataloader_train = DataLoader(train_data, \n",
    "                              batch_size=16, \n",
    "                              shuffle=True)\n"
   ]
  },
  {
   "cell_type": "markdown",
   "metadata": {},
   "source": [
    "#### Check images"
   ]
  },
  {
   "cell_type": "code",
   "execution_count": 6,
   "metadata": {},
   "outputs": [
    {
     "ename": "TypeError",
     "evalue": "Invalid shape (3, 32, 32) for image data",
     "output_type": "error",
     "traceback": [
      "\u001b[0;31m---------------------------------------------------------------------------\u001b[0m",
      "\u001b[0;31mTypeError\u001b[0m                                 Traceback (most recent call last)",
      "Input \u001b[0;32mIn [6]\u001b[0m, in \u001b[0;36m<cell line: 3>\u001b[0;34m()\u001b[0m\n\u001b[1;32m      7\u001b[0m     plt\u001b[38;5;241m.\u001b[39mtitle(label)\n\u001b[1;32m      8\u001b[0m     plt\u001b[38;5;241m.\u001b[39maxis(\u001b[38;5;124m\"\u001b[39m\u001b[38;5;124moff\u001b[39m\u001b[38;5;124m\"\u001b[39m)\n\u001b[0;32m----> 9\u001b[0m     \u001b[43mplt\u001b[49m\u001b[38;5;241;43m.\u001b[39;49m\u001b[43mimshow\u001b[49m\u001b[43m(\u001b[49m\u001b[43mimg\u001b[49m\u001b[43m)\u001b[49m\n\u001b[1;32m     10\u001b[0m plt\u001b[38;5;241m.\u001b[39mshow()\n\u001b[1;32m     11\u001b[0m \u001b[38;5;28mprint\u001b[39m(\u001b[38;5;124m'\u001b[39m\u001b[38;5;124mData shape:\u001b[39m\u001b[38;5;124m'\u001b[39m, img\u001b[38;5;241m.\u001b[39mshape)\n",
      "File \u001b[0;32m~/anaconda3/envs/cv-course/lib/python3.8/site-packages/matplotlib/_api/deprecation.py:459\u001b[0m, in \u001b[0;36mmake_keyword_only.<locals>.wrapper\u001b[0;34m(*args, **kwargs)\u001b[0m\n\u001b[1;32m    453\u001b[0m \u001b[38;5;28;01mif\u001b[39;00m \u001b[38;5;28mlen\u001b[39m(args) \u001b[38;5;241m>\u001b[39m name_idx:\n\u001b[1;32m    454\u001b[0m     warn_deprecated(\n\u001b[1;32m    455\u001b[0m         since, message\u001b[38;5;241m=\u001b[39m\u001b[38;5;124m\"\u001b[39m\u001b[38;5;124mPassing the \u001b[39m\u001b[38;5;132;01m%(name)s\u001b[39;00m\u001b[38;5;124m \u001b[39m\u001b[38;5;132;01m%(obj_type)s\u001b[39;00m\u001b[38;5;124m \u001b[39m\u001b[38;5;124m\"\u001b[39m\n\u001b[1;32m    456\u001b[0m         \u001b[38;5;124m\"\u001b[39m\u001b[38;5;124mpositionally is deprecated since Matplotlib \u001b[39m\u001b[38;5;132;01m%(since)s\u001b[39;00m\u001b[38;5;124m; the \u001b[39m\u001b[38;5;124m\"\u001b[39m\n\u001b[1;32m    457\u001b[0m         \u001b[38;5;124m\"\u001b[39m\u001b[38;5;124mparameter will become keyword-only \u001b[39m\u001b[38;5;132;01m%(removal)s\u001b[39;00m\u001b[38;5;124m.\u001b[39m\u001b[38;5;124m\"\u001b[39m,\n\u001b[1;32m    458\u001b[0m         name\u001b[38;5;241m=\u001b[39mname, obj_type\u001b[38;5;241m=\u001b[39m\u001b[38;5;124mf\u001b[39m\u001b[38;5;124m\"\u001b[39m\u001b[38;5;124mparameter of \u001b[39m\u001b[38;5;132;01m{\u001b[39;00mfunc\u001b[38;5;241m.\u001b[39m\u001b[38;5;18m__name__\u001b[39m\u001b[38;5;132;01m}\u001b[39;00m\u001b[38;5;124m()\u001b[39m\u001b[38;5;124m\"\u001b[39m)\n\u001b[0;32m--> 459\u001b[0m \u001b[38;5;28;01mreturn\u001b[39;00m \u001b[43mfunc\u001b[49m\u001b[43m(\u001b[49m\u001b[38;5;241;43m*\u001b[39;49m\u001b[43margs\u001b[49m\u001b[43m,\u001b[49m\u001b[43m \u001b[49m\u001b[38;5;241;43m*\u001b[39;49m\u001b[38;5;241;43m*\u001b[39;49m\u001b[43mkwargs\u001b[49m\u001b[43m)\u001b[49m\n",
      "File \u001b[0;32m~/anaconda3/envs/cv-course/lib/python3.8/site-packages/matplotlib/pyplot.py:2652\u001b[0m, in \u001b[0;36mimshow\u001b[0;34m(X, cmap, norm, aspect, interpolation, alpha, vmin, vmax, origin, extent, interpolation_stage, filternorm, filterrad, resample, url, data, **kwargs)\u001b[0m\n\u001b[1;32m   2646\u001b[0m \u001b[38;5;129m@_copy_docstring_and_deprecators\u001b[39m(Axes\u001b[38;5;241m.\u001b[39mimshow)\n\u001b[1;32m   2647\u001b[0m \u001b[38;5;28;01mdef\u001b[39;00m \u001b[38;5;21mimshow\u001b[39m(\n\u001b[1;32m   2648\u001b[0m         X, cmap\u001b[38;5;241m=\u001b[39m\u001b[38;5;28;01mNone\u001b[39;00m, norm\u001b[38;5;241m=\u001b[39m\u001b[38;5;28;01mNone\u001b[39;00m, aspect\u001b[38;5;241m=\u001b[39m\u001b[38;5;28;01mNone\u001b[39;00m, interpolation\u001b[38;5;241m=\u001b[39m\u001b[38;5;28;01mNone\u001b[39;00m,\n\u001b[1;32m   2649\u001b[0m         alpha\u001b[38;5;241m=\u001b[39m\u001b[38;5;28;01mNone\u001b[39;00m, vmin\u001b[38;5;241m=\u001b[39m\u001b[38;5;28;01mNone\u001b[39;00m, vmax\u001b[38;5;241m=\u001b[39m\u001b[38;5;28;01mNone\u001b[39;00m, origin\u001b[38;5;241m=\u001b[39m\u001b[38;5;28;01mNone\u001b[39;00m, extent\u001b[38;5;241m=\u001b[39m\u001b[38;5;28;01mNone\u001b[39;00m, \u001b[38;5;241m*\u001b[39m,\n\u001b[1;32m   2650\u001b[0m         interpolation_stage\u001b[38;5;241m=\u001b[39m\u001b[38;5;28;01mNone\u001b[39;00m, filternorm\u001b[38;5;241m=\u001b[39m\u001b[38;5;28;01mTrue\u001b[39;00m, filterrad\u001b[38;5;241m=\u001b[39m\u001b[38;5;241m4.0\u001b[39m,\n\u001b[1;32m   2651\u001b[0m         resample\u001b[38;5;241m=\u001b[39m\u001b[38;5;28;01mNone\u001b[39;00m, url\u001b[38;5;241m=\u001b[39m\u001b[38;5;28;01mNone\u001b[39;00m, data\u001b[38;5;241m=\u001b[39m\u001b[38;5;28;01mNone\u001b[39;00m, \u001b[38;5;241m*\u001b[39m\u001b[38;5;241m*\u001b[39mkwargs):\n\u001b[0;32m-> 2652\u001b[0m     __ret \u001b[38;5;241m=\u001b[39m \u001b[43mgca\u001b[49m\u001b[43m(\u001b[49m\u001b[43m)\u001b[49m\u001b[38;5;241;43m.\u001b[39;49m\u001b[43mimshow\u001b[49m\u001b[43m(\u001b[49m\n\u001b[1;32m   2653\u001b[0m \u001b[43m        \u001b[49m\u001b[43mX\u001b[49m\u001b[43m,\u001b[49m\u001b[43m \u001b[49m\u001b[43mcmap\u001b[49m\u001b[38;5;241;43m=\u001b[39;49m\u001b[43mcmap\u001b[49m\u001b[43m,\u001b[49m\u001b[43m \u001b[49m\u001b[43mnorm\u001b[49m\u001b[38;5;241;43m=\u001b[39;49m\u001b[43mnorm\u001b[49m\u001b[43m,\u001b[49m\u001b[43m \u001b[49m\u001b[43maspect\u001b[49m\u001b[38;5;241;43m=\u001b[39;49m\u001b[43maspect\u001b[49m\u001b[43m,\u001b[49m\n\u001b[1;32m   2654\u001b[0m \u001b[43m        \u001b[49m\u001b[43minterpolation\u001b[49m\u001b[38;5;241;43m=\u001b[39;49m\u001b[43minterpolation\u001b[49m\u001b[43m,\u001b[49m\u001b[43m \u001b[49m\u001b[43malpha\u001b[49m\u001b[38;5;241;43m=\u001b[39;49m\u001b[43malpha\u001b[49m\u001b[43m,\u001b[49m\u001b[43m \u001b[49m\u001b[43mvmin\u001b[49m\u001b[38;5;241;43m=\u001b[39;49m\u001b[43mvmin\u001b[49m\u001b[43m,\u001b[49m\n\u001b[1;32m   2655\u001b[0m \u001b[43m        \u001b[49m\u001b[43mvmax\u001b[49m\u001b[38;5;241;43m=\u001b[39;49m\u001b[43mvmax\u001b[49m\u001b[43m,\u001b[49m\u001b[43m \u001b[49m\u001b[43morigin\u001b[49m\u001b[38;5;241;43m=\u001b[39;49m\u001b[43morigin\u001b[49m\u001b[43m,\u001b[49m\u001b[43m \u001b[49m\u001b[43mextent\u001b[49m\u001b[38;5;241;43m=\u001b[39;49m\u001b[43mextent\u001b[49m\u001b[43m,\u001b[49m\n\u001b[1;32m   2656\u001b[0m \u001b[43m        \u001b[49m\u001b[43minterpolation_stage\u001b[49m\u001b[38;5;241;43m=\u001b[39;49m\u001b[43minterpolation_stage\u001b[49m\u001b[43m,\u001b[49m\n\u001b[1;32m   2657\u001b[0m \u001b[43m        \u001b[49m\u001b[43mfilternorm\u001b[49m\u001b[38;5;241;43m=\u001b[39;49m\u001b[43mfilternorm\u001b[49m\u001b[43m,\u001b[49m\u001b[43m \u001b[49m\u001b[43mfilterrad\u001b[49m\u001b[38;5;241;43m=\u001b[39;49m\u001b[43mfilterrad\u001b[49m\u001b[43m,\u001b[49m\u001b[43m \u001b[49m\u001b[43mresample\u001b[49m\u001b[38;5;241;43m=\u001b[39;49m\u001b[43mresample\u001b[49m\u001b[43m,\u001b[49m\n\u001b[1;32m   2658\u001b[0m \u001b[43m        \u001b[49m\u001b[43murl\u001b[49m\u001b[38;5;241;43m=\u001b[39;49m\u001b[43murl\u001b[49m\u001b[43m,\u001b[49m\u001b[43m \u001b[49m\u001b[38;5;241;43m*\u001b[39;49m\u001b[38;5;241;43m*\u001b[39;49m\u001b[43m(\u001b[49m\u001b[43m{\u001b[49m\u001b[38;5;124;43m\"\u001b[39;49m\u001b[38;5;124;43mdata\u001b[39;49m\u001b[38;5;124;43m\"\u001b[39;49m\u001b[43m:\u001b[49m\u001b[43m \u001b[49m\u001b[43mdata\u001b[49m\u001b[43m}\u001b[49m\u001b[43m \u001b[49m\u001b[38;5;28;43;01mif\u001b[39;49;00m\u001b[43m \u001b[49m\u001b[43mdata\u001b[49m\u001b[43m \u001b[49m\u001b[38;5;129;43;01mis\u001b[39;49;00m\u001b[43m \u001b[49m\u001b[38;5;129;43;01mnot\u001b[39;49;00m\u001b[43m \u001b[49m\u001b[38;5;28;43;01mNone\u001b[39;49;00m\u001b[43m \u001b[49m\u001b[38;5;28;43;01melse\u001b[39;49;00m\u001b[43m \u001b[49m\u001b[43m{\u001b[49m\u001b[43m}\u001b[49m\u001b[43m)\u001b[49m\u001b[43m,\u001b[49m\n\u001b[1;32m   2659\u001b[0m \u001b[43m        \u001b[49m\u001b[38;5;241;43m*\u001b[39;49m\u001b[38;5;241;43m*\u001b[39;49m\u001b[43mkwargs\u001b[49m\u001b[43m)\u001b[49m\n\u001b[1;32m   2660\u001b[0m     sci(__ret)\n\u001b[1;32m   2661\u001b[0m     \u001b[38;5;28;01mreturn\u001b[39;00m __ret\n",
      "File \u001b[0;32m~/anaconda3/envs/cv-course/lib/python3.8/site-packages/matplotlib/_api/deprecation.py:459\u001b[0m, in \u001b[0;36mmake_keyword_only.<locals>.wrapper\u001b[0;34m(*args, **kwargs)\u001b[0m\n\u001b[1;32m    453\u001b[0m \u001b[38;5;28;01mif\u001b[39;00m \u001b[38;5;28mlen\u001b[39m(args) \u001b[38;5;241m>\u001b[39m name_idx:\n\u001b[1;32m    454\u001b[0m     warn_deprecated(\n\u001b[1;32m    455\u001b[0m         since, message\u001b[38;5;241m=\u001b[39m\u001b[38;5;124m\"\u001b[39m\u001b[38;5;124mPassing the \u001b[39m\u001b[38;5;132;01m%(name)s\u001b[39;00m\u001b[38;5;124m \u001b[39m\u001b[38;5;132;01m%(obj_type)s\u001b[39;00m\u001b[38;5;124m \u001b[39m\u001b[38;5;124m\"\u001b[39m\n\u001b[1;32m    456\u001b[0m         \u001b[38;5;124m\"\u001b[39m\u001b[38;5;124mpositionally is deprecated since Matplotlib \u001b[39m\u001b[38;5;132;01m%(since)s\u001b[39;00m\u001b[38;5;124m; the \u001b[39m\u001b[38;5;124m\"\u001b[39m\n\u001b[1;32m    457\u001b[0m         \u001b[38;5;124m\"\u001b[39m\u001b[38;5;124mparameter will become keyword-only \u001b[39m\u001b[38;5;132;01m%(removal)s\u001b[39;00m\u001b[38;5;124m.\u001b[39m\u001b[38;5;124m\"\u001b[39m,\n\u001b[1;32m    458\u001b[0m         name\u001b[38;5;241m=\u001b[39mname, obj_type\u001b[38;5;241m=\u001b[39m\u001b[38;5;124mf\u001b[39m\u001b[38;5;124m\"\u001b[39m\u001b[38;5;124mparameter of \u001b[39m\u001b[38;5;132;01m{\u001b[39;00mfunc\u001b[38;5;241m.\u001b[39m\u001b[38;5;18m__name__\u001b[39m\u001b[38;5;132;01m}\u001b[39;00m\u001b[38;5;124m()\u001b[39m\u001b[38;5;124m\"\u001b[39m)\n\u001b[0;32m--> 459\u001b[0m \u001b[38;5;28;01mreturn\u001b[39;00m \u001b[43mfunc\u001b[49m\u001b[43m(\u001b[49m\u001b[38;5;241;43m*\u001b[39;49m\u001b[43margs\u001b[49m\u001b[43m,\u001b[49m\u001b[43m \u001b[49m\u001b[38;5;241;43m*\u001b[39;49m\u001b[38;5;241;43m*\u001b[39;49m\u001b[43mkwargs\u001b[49m\u001b[43m)\u001b[49m\n",
      "File \u001b[0;32m~/anaconda3/envs/cv-course/lib/python3.8/site-packages/matplotlib/__init__.py:1412\u001b[0m, in \u001b[0;36m_preprocess_data.<locals>.inner\u001b[0;34m(ax, data, *args, **kwargs)\u001b[0m\n\u001b[1;32m   1409\u001b[0m \u001b[38;5;129m@functools\u001b[39m\u001b[38;5;241m.\u001b[39mwraps(func)\n\u001b[1;32m   1410\u001b[0m \u001b[38;5;28;01mdef\u001b[39;00m \u001b[38;5;21minner\u001b[39m(ax, \u001b[38;5;241m*\u001b[39margs, data\u001b[38;5;241m=\u001b[39m\u001b[38;5;28;01mNone\u001b[39;00m, \u001b[38;5;241m*\u001b[39m\u001b[38;5;241m*\u001b[39mkwargs):\n\u001b[1;32m   1411\u001b[0m     \u001b[38;5;28;01mif\u001b[39;00m data \u001b[38;5;129;01mis\u001b[39;00m \u001b[38;5;28;01mNone\u001b[39;00m:\n\u001b[0;32m-> 1412\u001b[0m         \u001b[38;5;28;01mreturn\u001b[39;00m \u001b[43mfunc\u001b[49m\u001b[43m(\u001b[49m\u001b[43max\u001b[49m\u001b[43m,\u001b[49m\u001b[43m \u001b[49m\u001b[38;5;241;43m*\u001b[39;49m\u001b[38;5;28;43mmap\u001b[39;49m\u001b[43m(\u001b[49m\u001b[43msanitize_sequence\u001b[49m\u001b[43m,\u001b[49m\u001b[43m \u001b[49m\u001b[43margs\u001b[49m\u001b[43m)\u001b[49m\u001b[43m,\u001b[49m\u001b[43m \u001b[49m\u001b[38;5;241;43m*\u001b[39;49m\u001b[38;5;241;43m*\u001b[39;49m\u001b[43mkwargs\u001b[49m\u001b[43m)\u001b[49m\n\u001b[1;32m   1414\u001b[0m     bound \u001b[38;5;241m=\u001b[39m new_sig\u001b[38;5;241m.\u001b[39mbind(ax, \u001b[38;5;241m*\u001b[39margs, \u001b[38;5;241m*\u001b[39m\u001b[38;5;241m*\u001b[39mkwargs)\n\u001b[1;32m   1415\u001b[0m     auto_label \u001b[38;5;241m=\u001b[39m (bound\u001b[38;5;241m.\u001b[39marguments\u001b[38;5;241m.\u001b[39mget(label_namer)\n\u001b[1;32m   1416\u001b[0m                   \u001b[38;5;129;01mor\u001b[39;00m bound\u001b[38;5;241m.\u001b[39mkwargs\u001b[38;5;241m.\u001b[39mget(label_namer))\n",
      "File \u001b[0;32m~/anaconda3/envs/cv-course/lib/python3.8/site-packages/matplotlib/axes/_axes.py:5481\u001b[0m, in \u001b[0;36mAxes.imshow\u001b[0;34m(self, X, cmap, norm, aspect, interpolation, alpha, vmin, vmax, origin, extent, interpolation_stage, filternorm, filterrad, resample, url, **kwargs)\u001b[0m\n\u001b[1;32m   5474\u001b[0m \u001b[38;5;28mself\u001b[39m\u001b[38;5;241m.\u001b[39mset_aspect(aspect)\n\u001b[1;32m   5475\u001b[0m im \u001b[38;5;241m=\u001b[39m mimage\u001b[38;5;241m.\u001b[39mAxesImage(\u001b[38;5;28mself\u001b[39m, cmap, norm, interpolation,\n\u001b[1;32m   5476\u001b[0m                       origin, extent, filternorm\u001b[38;5;241m=\u001b[39mfilternorm,\n\u001b[1;32m   5477\u001b[0m                       filterrad\u001b[38;5;241m=\u001b[39mfilterrad, resample\u001b[38;5;241m=\u001b[39mresample,\n\u001b[1;32m   5478\u001b[0m                       interpolation_stage\u001b[38;5;241m=\u001b[39minterpolation_stage,\n\u001b[1;32m   5479\u001b[0m                       \u001b[38;5;241m*\u001b[39m\u001b[38;5;241m*\u001b[39mkwargs)\n\u001b[0;32m-> 5481\u001b[0m \u001b[43mim\u001b[49m\u001b[38;5;241;43m.\u001b[39;49m\u001b[43mset_data\u001b[49m\u001b[43m(\u001b[49m\u001b[43mX\u001b[49m\u001b[43m)\u001b[49m\n\u001b[1;32m   5482\u001b[0m im\u001b[38;5;241m.\u001b[39mset_alpha(alpha)\n\u001b[1;32m   5483\u001b[0m \u001b[38;5;28;01mif\u001b[39;00m im\u001b[38;5;241m.\u001b[39mget_clip_path() \u001b[38;5;129;01mis\u001b[39;00m \u001b[38;5;28;01mNone\u001b[39;00m:\n\u001b[1;32m   5484\u001b[0m     \u001b[38;5;66;03m# image does not already have clipping set, clip to axes patch\u001b[39;00m\n",
      "File \u001b[0;32m~/anaconda3/envs/cv-course/lib/python3.8/site-packages/matplotlib/image.py:715\u001b[0m, in \u001b[0;36m_ImageBase.set_data\u001b[0;34m(self, A)\u001b[0m\n\u001b[1;32m    711\u001b[0m     \u001b[38;5;28mself\u001b[39m\u001b[38;5;241m.\u001b[39m_A \u001b[38;5;241m=\u001b[39m \u001b[38;5;28mself\u001b[39m\u001b[38;5;241m.\u001b[39m_A[:, :, \u001b[38;5;241m0\u001b[39m]\n\u001b[1;32m    713\u001b[0m \u001b[38;5;28;01mif\u001b[39;00m \u001b[38;5;129;01mnot\u001b[39;00m (\u001b[38;5;28mself\u001b[39m\u001b[38;5;241m.\u001b[39m_A\u001b[38;5;241m.\u001b[39mndim \u001b[38;5;241m==\u001b[39m \u001b[38;5;241m2\u001b[39m\n\u001b[1;32m    714\u001b[0m         \u001b[38;5;129;01mor\u001b[39;00m \u001b[38;5;28mself\u001b[39m\u001b[38;5;241m.\u001b[39m_A\u001b[38;5;241m.\u001b[39mndim \u001b[38;5;241m==\u001b[39m \u001b[38;5;241m3\u001b[39m \u001b[38;5;129;01mand\u001b[39;00m \u001b[38;5;28mself\u001b[39m\u001b[38;5;241m.\u001b[39m_A\u001b[38;5;241m.\u001b[39mshape[\u001b[38;5;241m-\u001b[39m\u001b[38;5;241m1\u001b[39m] \u001b[38;5;129;01min\u001b[39;00m [\u001b[38;5;241m3\u001b[39m, \u001b[38;5;241m4\u001b[39m]):\n\u001b[0;32m--> 715\u001b[0m     \u001b[38;5;28;01mraise\u001b[39;00m \u001b[38;5;167;01mTypeError\u001b[39;00m(\u001b[38;5;124m\"\u001b[39m\u001b[38;5;124mInvalid shape \u001b[39m\u001b[38;5;132;01m{}\u001b[39;00m\u001b[38;5;124m for image data\u001b[39m\u001b[38;5;124m\"\u001b[39m\n\u001b[1;32m    716\u001b[0m                     \u001b[38;5;241m.\u001b[39mformat(\u001b[38;5;28mself\u001b[39m\u001b[38;5;241m.\u001b[39m_A\u001b[38;5;241m.\u001b[39mshape))\n\u001b[1;32m    718\u001b[0m \u001b[38;5;28;01mif\u001b[39;00m \u001b[38;5;28mself\u001b[39m\u001b[38;5;241m.\u001b[39m_A\u001b[38;5;241m.\u001b[39mndim \u001b[38;5;241m==\u001b[39m \u001b[38;5;241m3\u001b[39m:\n\u001b[1;32m    719\u001b[0m     \u001b[38;5;66;03m# If the input data has values outside the valid range (after\u001b[39;00m\n\u001b[1;32m    720\u001b[0m     \u001b[38;5;66;03m# normalisation), we issue a warning and then clip X to the bounds\u001b[39;00m\n\u001b[1;32m    721\u001b[0m     \u001b[38;5;66;03m# - otherwise casting wraps extreme values, hiding outliers and\u001b[39;00m\n\u001b[1;32m    722\u001b[0m     \u001b[38;5;66;03m# making reliable interpretation impossible.\u001b[39;00m\n\u001b[1;32m    723\u001b[0m     high \u001b[38;5;241m=\u001b[39m \u001b[38;5;241m255\u001b[39m \u001b[38;5;28;01mif\u001b[39;00m np\u001b[38;5;241m.\u001b[39missubdtype(\u001b[38;5;28mself\u001b[39m\u001b[38;5;241m.\u001b[39m_A\u001b[38;5;241m.\u001b[39mdtype, np\u001b[38;5;241m.\u001b[39minteger) \u001b[38;5;28;01melse\u001b[39;00m \u001b[38;5;241m1\u001b[39m\n",
      "\u001b[0;31mTypeError\u001b[0m: Invalid shape (3, 32, 32) for image data"
     ]
    },
    {
     "data": {
      "image/png": "[encoded data removed]",
      "text/plain": [
       "<Figure size 720x576 with 1 Axes>"
      ]
     },
     "metadata": {
      "needs_background": "light"
     },
     "output_type": "display_data"
    }
   ],
   "source": [
    "figure = plt.figure(figsize=(10, 8))\n",
    "cols, rows = 5, 5\n",
    "for i in range(1, cols * rows + 1):\n",
    "    sample_idx = torch.randint(len(train_data), size=(1,)).item()\n",
    "    img, label = train_data[sample_idx]\n",
    "    figure.add_subplot(rows, cols, i)\n",
    "    plt.title(label)\n",
    "    plt.axis(\"off\")\n",
    "    plt.imshow(img.squeeze(), cmap=\"gray\")\n",
    "plt.show()\n",
    "print('Data shape:', img.shape)\n"
   ]
  },
  {
   "cell_type": "markdown",
   "metadata": {},
   "source": [
    "#### CNN"
   ]
  },
  {
   "cell_type": "code",
   "execution_count": 4,
   "metadata": {},
   "outputs": [],
   "source": [
    "class CNN(nn.Module):\n",
    "    def __init__(self):\n",
    "        super(CNN, self).__init__()\n",
    "        self.conv1 = nn.Sequential(         \n",
    "            nn.Conv2d(\n",
    "                in_channels=1,              \n",
    "                out_channels=16,            \n",
    "                kernel_size=5,              \n",
    "                stride=1,                   \n",
    "                padding=2,                  \n",
    "            ),                              \n",
    "            nn.ReLU(),                      \n",
    "            nn.MaxPool2d(kernel_size=2),    \n",
    "        )\n",
    "        self.conv2 = nn.Sequential(         \n",
    "            nn.Conv2d(16, 32, 5, 1, 2),     \n",
    "            nn.ReLU(),                      \n",
    "            nn.MaxPool2d(2),                \n",
    "        )\n",
    "        # fully connected layer, output 10 classes\n",
    "        self.out = nn.Linear(32 * 7 * 7, 10)\n",
    "    def forward(self, x):\n",
    "        x = self.conv1(x)\n",
    "        x = self.conv2(x)\n",
    "        # flatten the output of conv2 to (batch_size, 32 * 7 * 7)\n",
    "        x = x.view(x.size(0), -1)       \n",
    "        output = self.out(x)\n",
    "        return output   # return x for visualization"
   ]
  },
  {
   "cell_type": "markdown",
   "metadata": {},
   "source": [
    "#### Train"
   ]
  },
  {
   "cell_type": "code",
   "execution_count": 5,
   "metadata": {},
   "outputs": [],
   "source": [
    "cnn = CNN()\n",
    "loss_func = nn.CrossEntropyLoss()   \n",
    "optimizer = optim.Adam(cnn.parameters(), lr = 0.01)   "
   ]
  },
  {
   "cell_type": "code",
   "execution_count": 6,
   "metadata": {},
   "outputs": [
    {
     "name": "stdout",
     "output_type": "stream",
     "text": [
      "Epoch [1/5], Step [100], Loss: 0.1084\n",
      "Epoch [1/5], Step [200], Loss: 0.4622\n",
      "Epoch [1/5], Step [300], Loss: 0.1479\n",
      "Epoch [1/5], Step [400], Loss: 0.3881\n",
      "Epoch [1/5], Step [500], Loss: 0.0554\n",
      "Epoch [1/5], Step [600], Loss: 0.3039\n",
      "Epoch [1/5], Step [700], Loss: 0.0191\n",
      "Epoch [1/5], Step [800], Loss: 0.6588\n",
      "Epoch [1/5], Step [900], Loss: 0.0649\n",
      "Epoch [1/5], Step [1000], Loss: 0.2254\n",
      "Epoch [1/5], Step [1100], Loss: 0.0029\n",
      "Epoch [1/5], Step [1200], Loss: 0.1074\n",
      "Epoch [1/5], Step [1300], Loss: 0.3452\n",
      "Epoch [1/5], Step [1400], Loss: 0.0072\n",
      "Epoch [1/5], Step [1500], Loss: 0.5443\n",
      "Epoch [1/5], Step [1600], Loss: 0.0455\n",
      "Epoch [1/5], Step [1700], Loss: 0.2808\n",
      "Epoch [1/5], Step [1800], Loss: 0.0045\n",
      "Epoch [1/5], Step [1900], Loss: 0.0950\n",
      "Epoch [1/5], Step [2000], Loss: 0.1755\n",
      "Epoch [1/5], Step [2100], Loss: 0.0074\n",
      "Epoch [1/5], Step [2200], Loss: 0.6078\n",
      "Epoch [1/5], Step [2300], Loss: 0.0576\n",
      "Epoch [1/5], Step [2400], Loss: 0.0131\n",
      "Epoch [1/5], Step [2500], Loss: 0.1558\n",
      "Epoch [1/5], Step [2600], Loss: 0.0736\n",
      "Epoch [1/5], Step [2700], Loss: 0.0461\n",
      "Epoch [1/5], Step [2800], Loss: 0.2046\n",
      "Epoch [1/5], Step [2900], Loss: 0.0819\n",
      "Epoch [1/5], Step [3000], Loss: 0.0900\n",
      "Epoch [1/5], Step [3100], Loss: 0.2136\n",
      "Epoch [1/5], Step [3200], Loss: 0.1735\n",
      "Epoch [1/5], Step [3300], Loss: 0.0552\n",
      "Epoch [1/5], Step [3400], Loss: 0.0313\n",
      "Epoch [1/5], Step [3500], Loss: 0.0119\n",
      "Epoch [1/5], Step [3600], Loss: 0.0470\n",
      "Epoch [1/5], Step [3700], Loss: 1.0671\n",
      "Epoch [2/5], Step [100], Loss: 0.0314\n",
      "Epoch [2/5], Step [200], Loss: 0.1207\n",
      "Epoch [2/5], Step [300], Loss: 0.2532\n",
      "Epoch [2/5], Step [400], Loss: 0.0181\n",
      "Epoch [2/5], Step [500], Loss: 0.0305\n",
      "Epoch [2/5], Step [600], Loss: 0.1721\n",
      "Epoch [2/5], Step [700], Loss: 0.3623\n",
      "Epoch [2/5], Step [800], Loss: 0.0898\n",
      "Epoch [2/5], Step [900], Loss: 0.2025\n",
      "Epoch [2/5], Step [1000], Loss: 0.1877\n",
      "Epoch [2/5], Step [1100], Loss: 0.0168\n",
      "Epoch [2/5], Step [1200], Loss: 0.1889\n",
      "Epoch [2/5], Step [1300], Loss: 0.0105\n",
      "Epoch [2/5], Step [1400], Loss: 0.0145\n",
      "Epoch [2/5], Step [1500], Loss: 0.0665\n",
      "Epoch [2/5], Step [1600], Loss: 0.0499\n",
      "Epoch [2/5], Step [1700], Loss: 0.0381\n",
      "Epoch [2/5], Step [1800], Loss: 0.0309\n",
      "Epoch [2/5], Step [1900], Loss: 0.0863\n",
      "Epoch [2/5], Step [2000], Loss: 0.1362\n",
      "Epoch [2/5], Step [2100], Loss: 0.2088\n",
      "Epoch [2/5], Step [2200], Loss: 0.4053\n",
      "Epoch [2/5], Step [2300], Loss: 0.4240\n",
      "Epoch [2/5], Step [2400], Loss: 0.1413\n",
      "Epoch [2/5], Step [2500], Loss: 0.1336\n",
      "Epoch [2/5], Step [2600], Loss: 0.0512\n",
      "Epoch [2/5], Step [2700], Loss: 0.0222\n",
      "Epoch [2/5], Step [2800], Loss: 0.4286\n",
      "Epoch [2/5], Step [2900], Loss: 0.0126\n",
      "Epoch [2/5], Step [3000], Loss: 0.0949\n",
      "Epoch [2/5], Step [3100], Loss: 0.0498\n",
      "Epoch [2/5], Step [3200], Loss: 0.0678\n",
      "Epoch [2/5], Step [3300], Loss: 0.3120\n",
      "Epoch [2/5], Step [3400], Loss: 0.0127\n",
      "Epoch [2/5], Step [3500], Loss: 0.0322\n",
      "Epoch [2/5], Step [3600], Loss: 0.0388\n",
      "Epoch [2/5], Step [3700], Loss: 0.1929\n",
      "Epoch [3/5], Step [100], Loss: 0.9799\n",
      "Epoch [3/5], Step [200], Loss: 0.0052\n",
      "Epoch [3/5], Step [300], Loss: 0.0290\n",
      "Epoch [3/5], Step [400], Loss: 0.0373\n",
      "Epoch [3/5], Step [500], Loss: 0.0364\n",
      "Epoch [3/5], Step [600], Loss: 0.0240\n",
      "Epoch [3/5], Step [700], Loss: 0.0110\n",
      "Epoch [3/5], Step [800], Loss: 0.2128\n",
      "Epoch [3/5], Step [900], Loss: 0.0064\n",
      "Epoch [3/5], Step [1000], Loss: 0.0006\n",
      "Epoch [3/5], Step [1100], Loss: 0.1567\n",
      "Epoch [3/5], Step [1200], Loss: 0.0759\n",
      "Epoch [3/5], Step [1300], Loss: 0.1032\n",
      "Epoch [3/5], Step [1400], Loss: 0.6039\n",
      "Epoch [3/5], Step [1500], Loss: 0.0167\n",
      "Epoch [3/5], Step [1600], Loss: 0.1370\n",
      "Epoch [3/5], Step [1700], Loss: 0.1188\n",
      "Epoch [3/5], Step [1800], Loss: 0.0672\n",
      "Epoch [3/5], Step [1900], Loss: 0.1324\n",
      "Epoch [3/5], Step [2000], Loss: 0.0613\n",
      "Epoch [3/5], Step [2100], Loss: 0.0017\n",
      "Epoch [3/5], Step [2200], Loss: 0.1778\n",
      "Epoch [3/5], Step [2300], Loss: 0.3905\n",
      "Epoch [3/5], Step [2400], Loss: 0.1146\n",
      "Epoch [3/5], Step [2500], Loss: 0.0262\n",
      "Epoch [3/5], Step [2600], Loss: 0.0185\n",
      "Epoch [3/5], Step [2700], Loss: 0.0002\n",
      "Epoch [3/5], Step [2800], Loss: 0.0089\n",
      "Epoch [3/5], Step [2900], Loss: 0.1838\n",
      "Epoch [3/5], Step [3000], Loss: 0.1891\n",
      "Epoch [3/5], Step [3100], Loss: 0.3244\n",
      "Epoch [3/5], Step [3200], Loss: 0.0064\n",
      "Epoch [3/5], Step [3300], Loss: 0.0167\n",
      "Epoch [3/5], Step [3400], Loss: 0.0056\n",
      "Epoch [3/5], Step [3500], Loss: 0.1913\n",
      "Epoch [3/5], Step [3600], Loss: 0.0283\n",
      "Epoch [3/5], Step [3700], Loss: 0.2207\n",
      "Epoch [4/5], Step [100], Loss: 0.0042\n",
      "Epoch [4/5], Step [200], Loss: 0.0095\n",
      "Epoch [4/5], Step [300], Loss: 0.1286\n",
      "Epoch [4/5], Step [400], Loss: 0.0700\n",
      "Epoch [4/5], Step [500], Loss: 0.0014\n",
      "Epoch [4/5], Step [600], Loss: 0.0742\n",
      "Epoch [4/5], Step [700], Loss: 0.1201\n",
      "Epoch [4/5], Step [800], Loss: 0.2893\n",
      "Epoch [4/5], Step [900], Loss: 0.0897\n",
      "Epoch [4/5], Step [1000], Loss: 0.0830\n",
      "Epoch [4/5], Step [1100], Loss: 0.0478\n",
      "Epoch [4/5], Step [1200], Loss: 0.0051\n",
      "Epoch [4/5], Step [1300], Loss: 0.0056\n",
      "Epoch [4/5], Step [1400], Loss: 0.0385\n",
      "Epoch [4/5], Step [1500], Loss: 0.0280\n",
      "Epoch [4/5], Step [1600], Loss: 0.1848\n",
      "Epoch [4/5], Step [1700], Loss: 0.0636\n",
      "Epoch [4/5], Step [1800], Loss: 0.0114\n",
      "Epoch [4/5], Step [1900], Loss: 0.0491\n",
      "Epoch [4/5], Step [2000], Loss: 0.0082\n",
      "Epoch [4/5], Step [2100], Loss: 0.0408\n",
      "Epoch [4/5], Step [2200], Loss: 0.0101\n",
      "Epoch [4/5], Step [2300], Loss: 0.4765\n",
      "Epoch [4/5], Step [2400], Loss: 0.0471\n",
      "Epoch [4/5], Step [2500], Loss: 0.0006\n",
      "Epoch [4/5], Step [2600], Loss: 0.0348\n",
      "Epoch [4/5], Step [2700], Loss: 0.4823\n",
      "Epoch [4/5], Step [2800], Loss: 0.3204\n",
      "Epoch [4/5], Step [2900], Loss: 0.0143\n",
      "Epoch [4/5], Step [3000], Loss: 0.0024\n",
      "Epoch [4/5], Step [3100], Loss: 0.1512\n",
      "Epoch [4/5], Step [3200], Loss: 0.1430\n",
      "Epoch [4/5], Step [3300], Loss: 0.0257\n",
      "Epoch [4/5], Step [3400], Loss: 0.0157\n",
      "Epoch [4/5], Step [3500], Loss: 0.0041\n",
      "Epoch [4/5], Step [3600], Loss: 0.1372\n",
      "Epoch [4/5], Step [3700], Loss: 0.0372\n",
      "Epoch [5/5], Step [100], Loss: 0.2646\n",
      "Epoch [5/5], Step [200], Loss: 0.0882\n",
      "Epoch [5/5], Step [300], Loss: 0.3522\n",
      "Epoch [5/5], Step [400], Loss: 0.0227\n",
      "Epoch [5/5], Step [500], Loss: 0.0086\n",
      "Epoch [5/5], Step [600], Loss: 0.8314\n",
      "Epoch [5/5], Step [700], Loss: 0.0215\n",
      "Epoch [5/5], Step [800], Loss: 0.0042\n",
      "Epoch [5/5], Step [900], Loss: 0.4337\n",
      "Epoch [5/5], Step [1000], Loss: 0.0060\n",
      "Epoch [5/5], Step [1100], Loss: 0.0741\n",
      "Epoch [5/5], Step [1200], Loss: 0.0275\n",
      "Epoch [5/5], Step [1300], Loss: 0.2280\n",
      "Epoch [5/5], Step [1400], Loss: 0.1553\n",
      "Epoch [5/5], Step [1500], Loss: 0.2374\n",
      "Epoch [5/5], Step [1600], Loss: 0.0178\n",
      "Epoch [5/5], Step [1700], Loss: 0.2730\n",
      "Epoch [5/5], Step [1800], Loss: 0.1165\n",
      "Epoch [5/5], Step [1900], Loss: 0.0043\n",
      "Epoch [5/5], Step [2000], Loss: 0.5428\n",
      "Epoch [5/5], Step [2100], Loss: 0.1166\n",
      "Epoch [5/5], Step [2200], Loss: 0.0063\n",
      "Epoch [5/5], Step [2300], Loss: 0.0998\n",
      "Epoch [5/5], Step [2400], Loss: 0.2316\n",
      "Epoch [5/5], Step [2500], Loss: 0.5137\n",
      "Epoch [5/5], Step [2600], Loss: 0.0083\n",
      "Epoch [5/5], Step [2700], Loss: 0.0077\n",
      "Epoch [5/5], Step [2800], Loss: 0.0207\n",
      "Epoch [5/5], Step [2900], Loss: 0.3820\n",
      "Epoch [5/5], Step [3000], Loss: 0.0552\n",
      "Epoch [5/5], Step [3100], Loss: 0.0005\n",
      "Epoch [5/5], Step [3200], Loss: 0.0272\n",
      "Epoch [5/5], Step [3300], Loss: 0.0994\n",
      "Epoch [5/5], Step [3400], Loss: 0.0061\n",
      "Epoch [5/5], Step [3500], Loss: 0.0017\n",
      "Epoch [5/5], Step [3600], Loss: 0.0018\n",
      "Epoch [5/5], Step [3700], Loss: 0.0033\n"
     ]
    }
   ],
   "source": [
    "# Train the model\n",
    "num_epochs = 5\n",
    "\n",
    "for epoch in range(num_epochs):\n",
    "    for i, (images, labels) in enumerate(dataloader_train):\n",
    "        output = cnn(images)           \n",
    "        loss = loss_func(output, labels)\n",
    "\n",
    "        # clear gradients for this training step   \n",
    "        optimizer.zero_grad()           \n",
    "\n",
    "        # backpropagation, compute gradients \n",
    "        loss.backward()    \n",
    "        # apply gradients             \n",
    "        optimizer.step()                \n",
    "\n",
    "        if (i+1) % 100 == 0:\n",
    "            print ('Epoch [{}/{}], Step [{}], Loss: {:.4f}' \n",
    "                   .format(epoch + 1, num_epochs, i + 1, loss.item()))"
   ]
  },
  {
   "cell_type": "markdown",
   "metadata": {},
   "source": [
    "#### Test"
   ]
  },
  {
   "cell_type": "code",
   "execution_count": 7,
   "metadata": {},
   "outputs": [
    {
     "name": "stdout",
     "output_type": "stream",
     "text": [
      "Test Accuracy of the model on the 10000 test images: 96.63 Percent\n"
     ]
    }
   ],
   "source": [
    "cnn.eval()\n",
    "with torch.no_grad():\n",
    "    correct = 0\n",
    "    total = 0\n",
    "    for images, labels in dataloader_test:\n",
    "        test_output = cnn(images)\n",
    "        pred_y = torch.max(test_output, 1)[1].data.squeeze() # max 를 통해 가장 확률이 높은 숫자를 선택\n",
    "        correct += (pred_y == labels).sum().item() # 가장 확률이 높은 숫자인 pred_y와 label이 같으면 정답 - 정답인 개수 확인\n",
    "        total += labels.size(0) \n",
    "    accuracy = correct / total * 100\n",
    "    \n",
    "print('Test Accuracy of the model on the 10000 test images: %.2f Percent' % accuracy)"
   ]
  },
  {
   "cell_type": "code",
   "execution_count": null,
   "metadata": {},
   "outputs": [],
   "source": []
  },
  {
   "cell_type": "code",
   "execution_count": null,
   "metadata": {},
   "outputs": [],
   "source": []
  }
 ],
 "metadata": {
  "kernelspec": {
   "display_name": "Python 3 (ipykernel)",
   "language": "python",
   "name": "python3"
  },
  "language_info": {
   "codemirror_mode": {
    "name": "ipython",
    "version": 3
   },
   "file_extension": ".py",
   "mimetype": "text/x-python",
   "name": "python",
   "nbconvert_exporter": "python",
   "pygments_lexer": "ipython3",
   "version": "3.8.13"
  }
 },
 "nbformat": 4,
 "nbformat_minor": 4
}
