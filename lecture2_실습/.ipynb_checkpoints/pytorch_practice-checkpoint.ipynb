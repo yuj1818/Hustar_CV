{
 "cells": [
  {
   "cell_type": "code",
   "execution_count": 1,
   "metadata": {},
   "outputs": [],
   "source": [
    "import torch\n",
    "import torchvision.transforms as transforms\n",
    "import torch.nn as nn"
   ]
  },
  {
   "cell_type": "markdown",
   "metadata": {},
   "source": [
    "### Pytorch Practice1\n",
    "\n",
    "- MSE(Mean Squared Error)를 구하시오\n",
    "\n",
    "$$ \\frac{1}{N} \\sum_{i}^{N} (y_{i} - \\hat{y}_{i})^{2} $$\n"
   ]
  },
  {
   "cell_type": "code",
   "execution_count": null,
   "metadata": {},
   "outputs": [],
   "source": [
    "y_hat = torch.tensor([1., 2., 3., 2., 1.])\n",
    "y =  torch.tensor([1.2, 2.1, 3.4, 2.3, 1.2])\n",
    "\n",
    "# TODO\n",
    "# Hint. torch.pow(a, x) = a^x\n",
    "for i in len(y):\n",
    "    mse = \n",
    "mse = \n",
    "\n",
    "assert abs(mse.item() - 0.0680) < 1e-4\n"
   ]
  },
  {
   "cell_type": "markdown",
   "metadata": {},
   "source": [
    "### Pytorch Practice2\n",
    "\n",
    "- CNN 레이어를 2번 통과하면서 Input과 Output의 dimension이 같은 Network를 만드세요\n",
    "- Hint \n",
    "$$ W' = \\frac{W-F+2P}{S} + 1$$"
   ]
  },
  {
   "cell_type": "code",
   "execution_count": null,
   "metadata": {},
   "outputs": [],
   "source": [
    "import torch\n",
    "import torch.nn as nn\n",
    "\n",
    "class MyCNN1(nn.Module):\n",
    "    def __init__(self):\n",
    "        super(MyCNN1, self).__init__()\n",
    "        self.conv1 = nn.Conv2d(in_channels=..., \n",
    "                               out_channels=...,\n",
    "                               kernel_size=...,\n",
    "                               stride=...,\n",
    "                               padding=...)\n",
    "        \n",
    "        self.conv2 = nn.Conv2d(in_channels=..., \n",
    "                               out_channels=...,\n",
    "                               kernel_size=...,\n",
    "                               stride=...,\n",
    "                               padding=...)\n",
    "        \n",
    "    def forward(self, x):\n",
    "        # Max pooling over a (2, 2) window\n",
    "        x = self.conv1(x)\n",
    "        x = nn.ReLU()(x) \n",
    "        x = self.conv2(x)\n",
    "        return x\n",
    "\n",
    "x = torch.randn(16, 3, 128, 128)\n",
    "\n",
    "model = MyCNN1()\n",
    "y = model(x)\n",
    "\n",
    "assert x.shape == y.shape"
   ]
  },
  {
   "cell_type": "markdown",
   "metadata": {},
   "source": [
    "### Pytorch Practice3\n",
    "\n",
    "- CNN 레이어를 2번 통과하고, 통과 할 때 마다 width와 hight가 절반으로 줄어드는 Network를 만드세요\n",
    "\n",
    "- Hint \n",
    "$$ W' = \\frac{W-F+2P}{S} + 1$$"
   ]
  },
  {
   "cell_type": "code",
   "execution_count": null,
   "metadata": {},
   "outputs": [],
   "source": [
    "import torch\n",
    "import torch.nn as nn\n",
    "\n",
    "class MyCNN2(nn.Module):\n",
    "    def __init__(self):\n",
    "        super(MyCNN2, self).__init__()\n",
    "        self.conv1 = nn.Conv2d(in_channels=..., \n",
    "                               out_channels=...,\n",
    "                               kernel_size=...,\n",
    "                               stride=...,\n",
    "                               padding=...)\n",
    "        \n",
    "        self.conv2 = nn.Conv2d(in_channels=..., \n",
    "                               out_channels=...,\n",
    "                               kernel_size=...,\n",
    "                               stride=...,\n",
    "                               padding=...)\n",
    "        \n",
    "    def forward(self, x):\n",
    "        # Max pooling over a (2, 2) window\n",
    "        x = self.conv1(x)\n",
    "        x = nn.ReLU()(x) \n",
    "        x = self.conv2(x)\n",
    "        return x\n",
    "\n",
    "x = torch.randn(16, 3, 128, 128)\n",
    "model = MyCNN2()\n",
    "y = model(x)\n",
    "a = torch.randn(16, 3, (128 // 4), (128 // 4))\n",
    "\n",
    "assert y.shape == a.shape"
   ]
  },
  {
   "cell_type": "markdown",
   "metadata": {},
   "source": [
    "### Pytorch Practice4\n",
    "\n",
    "- 다음 코드들을 적절한 위치에 끼워 넣으세요\n",
    "    - optimizer = optim.SGD(model.parameters(), lr=0.001)\n",
    "    - loss.backward()\n",
    "    - optimizer.step()\n",
    "    - optimizer.zero_grad()\n",
    "\n",
    "- 출력되는 loss graph가 단조 감소하면 성공\n",
    "\n",
    "- Hint - training sequence\n",
    "- Inference -> Loss -> Gradient -> Update"
   ]
  },
  {
   "cell_type": "code",
   "execution_count": null,
   "metadata": {},
   "outputs": [],
   "source": [
    "import torch\n",
    "import torch.nn as nn\n",
    "import torch.optim as optim\n",
    "import matplotlib.pyplot as plt\n",
    "torch.random.manual_seed(1)\n",
    "\n",
    "class Net(nn.Module):\n",
    "    def __init__(self):\n",
    "        super(Net, self).__init__()\n",
    "        self.fc1 = nn.Linear(2, 10)      \n",
    "        self.fc2 = nn.Linear(10, 2)                        \n",
    "    def forward(self, x):\n",
    "        x = self.fc1(x)\n",
    "        x = nn.ReLU()(x)\n",
    "        x = self.fc2(x)\n",
    "        return x\n",
    "\n",
    "x = torch.tensor([0.1, 0.1])\n",
    "gt = torch.tensor([3., 4.])\n",
    "model = Net()\n",
    "\n",
    "losses = []\n",
    "\n",
    "for i in range(100):\n",
    "    y = model(gt)\n",
    "    loss = ((gt - y) ** 2).mean()\n",
    "\n",
    "    losses.append(loss.item())\n",
    "\n",
    "plt.plot(losses)\n",
    "plt.show()\n",
    "    "
   ]
  },
  {
   "cell_type": "markdown",
   "metadata": {},
   "source": [
    "### Optional \n",
    "### Pytorch Practice5\n",
    "\n",
    "- Practice4를 GPU에서 동작하도록 고치시오"
   ]
  },
  {
   "cell_type": "code",
   "execution_count": null,
   "metadata": {},
   "outputs": [],
   "source": [
    "# TODO\n"
   ]
  }
 ],
 "metadata": {
  "kernelspec": {
   "display_name": "Python 3 (ipykernel)",
   "language": "python",
   "name": "python3"
  },
  "language_info": {
   "codemirror_mode": {
    "name": "ipython",
    "version": 3
   },
   "file_extension": ".py",
   "mimetype": "text/x-python",
   "name": "python",
   "nbconvert_exporter": "python",
   "pygments_lexer": "ipython3",
   "version": "3.8.13"
  }
 },
 "nbformat": 4,
 "nbformat_minor": 4
}
