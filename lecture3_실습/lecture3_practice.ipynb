{
 "cells": [
  {
   "cell_type": "markdown",
   "metadata": {},
   "source": [
    "# Sementaic segmentation\n",
    "- 이미지에서 도로를 segmentation하기"
   ]
  },
  {
   "cell_type": "code",
   "execution_count": 1,
   "metadata": {},
   "outputs": [
    {
     "data": {
      "text/plain": [
       "<torch._C.Generator at 0x7f439406a390>"
      ]
     },
     "execution_count": 1,
     "metadata": {},
     "output_type": "execute_result"
    }
   ],
   "source": [
    "import torch\n",
    "import torchvision\n",
    "import torchvision.transforms as transforms\n",
    "import numpy as np\n",
    "import torch.nn as nn\n",
    "import torch.nn.functional as F\n",
    "import os\n",
    "import os.path as osp\n",
    "import PIL\n",
    "\n",
    "torch.manual_seed(0)"
   ]
  },
  {
   "cell_type": "markdown",
   "metadata": {},
   "source": [
    "\n",
    "\n",
    "\n",
    "- Training data\n",
    "\n",
    "![source](./data/Kitti/data_road/training/image_2/um_000081.png \"Variable\")  \n",
    "./data/Kitti/data_road/training/image_2/um_000081.png (source)\n",
    "\n",
    "![target](./data/Kitti/data_road/training/gt_image_2/um_road_000081.png \"Variable\")  \n",
    "./data/Kitti/data_road/training/gt_image_2/um_road_000081.png (target)\n"
   ]
  },
  {
   "cell_type": "markdown",
   "metadata": {},
   "source": [
    "# Dataloader\n",
    "\n",
    "- 데이터셋 목록 확인하기"
   ]
  },
  {
   "cell_type": "code",
   "execution_count": 2,
   "metadata": {
    "tags": []
   },
   "outputs": [
    {
     "name": "stdout",
     "output_type": "stream",
     "text": [
      "0 : ['training/image_2/um_000000.png', 'training/gt_image_2/um_road_000000.png']\n",
      "1 : ['training/image_2/um_000001.png', 'training/gt_image_2/um_road_000001.png']\n",
      "2 : ['training/image_2/um_000002.png', 'training/gt_image_2/um_road_000002.png']\n",
      "3 : ['training/image_2/um_000003.png', 'training/gt_image_2/um_road_000003.png']\n",
      "4 : ['training/image_2/um_000004.png', 'training/gt_image_2/um_road_000004.png']\n"
     ]
    }
   ],
   "source": [
    "# check list of train data\n",
    "imgsets_file = osp.join('data/Kitti', 'train.txt')\n",
    "\n",
    "for i, src_tar_name in enumerate(open(imgsets_file)):\n",
    "    src_tar_name = src_tar_name.split()\n",
    "    print('%d :' % i, src_tar_name)\n",
    "    if i > 3:\n",
    "        break\n"
   ]
  },
  {
   "cell_type": "markdown",
   "metadata": {},
   "source": [
    "- 데이터 셋 클래스"
   ]
  },
  {
   "cell_type": "code",
   "execution_count": 5,
   "metadata": {},
   "outputs": [],
   "source": [
    "class KITTIdataset(torch.utils.data.Dataset):\n",
    "    class_names = np.array(['background', 'road'])\n",
    "    mean_bgr = np.array([104.00698793, 116.66876762, 122.67891434])\n",
    "    # root <- \"./resources\"\n",
    "    def __init__(self, root, split='train', transform=False):\n",
    "        self._transform = transform\n",
    "        dataset_dir = osp.join(root, 'Kitti')\n",
    "        self.files = [] \n",
    "        # TODO\n",
    "        # file names in 'self.files'\n",
    "        # dict -> self.files.append({\"img\" : src_tar_name[0], \"lbl\" : src_tar_name[1] })\n",
    "        imgsets_file = os.path.join(dataset_dir, '%s.txt'% split)\n",
    "        for i, src_tar_name in enumerate(open(imgsets_file)):\n",
    "            src_tar_name = src_tar_name.strip()\n",
    "            src_tar_name = src_tar_name.split()\n",
    "            # save file names in a list of dictionary format\n",
    "            self.files.append({\"img\" : os.path.join(dataset_dir, \"data_road\", src_tar_name[0]), \"lbl\" : os.path.join(dataset_dir, \"data_road\",src_tar_name[1]) })\n",
    "        \n",
    "        \n",
    "    def __len__(self):\n",
    "        return len(self.files)\n",
    "\n",
    "    def __getitem__(self, index):\n",
    "        # load image & label\n",
    "        # TODO\n",
    "        # image -> img, label -> lbl\n",
    "        data_file = self.files[index]\n",
    "        img_file = data_file[\"img\"]\n",
    "        lbl_file = data_file[\"lbl\"]\n",
    "        \n",
    "        \n",
    "        img = PIL.Image.open(img_file)\n",
    "        img = np.array(img, dtype=np.uint8)\n",
    "        lbl = PIL.Image.open(lbl_file)\n",
    "        lbl = np.array(lbl, dtype=np.int32)\n",
    "        lbl[lbl == 255] = 1\n",
    "        \n",
    "        img, lbl = self.transform(img, lbl)\n",
    "        return img, lbl\n",
    "\n",
    "    def transform(self, img, lbl):\n",
    "        img = img[:, :, ::-1]  # RGB -> BGR\n",
    "        img = img.astype(np.float64)\n",
    "        img -= self.mean_bgr\n",
    "        img = img.transpose(2, 0, 1) # H W C -> C H W\n",
    "        img = torch.from_numpy(img).float()\n",
    "        lbl = torch.from_numpy(lbl).long()\n",
    "        return img, lbl"
   ]
  },
  {
   "cell_type": "code",
   "execution_count": 6,
   "metadata": {
    "tags": []
   },
   "outputs": [
    {
     "name": "stderr",
     "output_type": "stream",
     "text": [
      "Downloading: \"https://download.pytorch.org/models/vgg16-397923af.pth\" to /home/piai/.cache/torch/checkpoints/vgg16-397923af.pth\n"
     ]
    },
    {
     "data": {
      "application/vnd.jupyter.widget-view+json": {
       "model_id": "48372900a82d463990510946e8d50d8c",
       "version_major": 2,
       "version_minor": 0
      },
      "text/plain": [
       "  0%|          | 0.00/528M [00:00<?, ?B/s]"
      ]
     },
     "metadata": {},
     "output_type": "display_data"
    }
   ],
   "source": [
    "train_loader = torch.utils.data.DataLoader(KITTIdataset(root = './data', split = 'train', transform = True), \n",
    "                                           batch_size = 1, shuffle = True)\n",
    "\n",
    "val_loader = torch.utils.data.DataLoader(KITTIdataset(root = './data', split = 'val', transform = True), \n",
    "                                         batch_size = 1, shuffle = False)\n",
    "\n",
    "vgg16 = torchvision.models.vgg16(pretrained = True)"
   ]
  },
  {
   "cell_type": "markdown",
   "metadata": {
    "tags": []
   },
   "source": [
    "# Define the Network\n",
    "\n",
    "- FCN model\n",
    "\n",
    "<img src=\"resources/fcn_upsampling.png\" width=\"60%\">"
   ]
  },
  {
   "cell_type": "code",
   "execution_count": 7,
   "metadata": {
    "tags": []
   },
   "outputs": [],
   "source": [
    "class FCN(nn.Module):\n",
    "    def __init__(self, num_class = 21):\n",
    "        super(FCN, self).__init__()\n",
    "        \n",
    "        ## Why padding 100?? https://github.com/shelhamer/fcn.berkeleyvision.org\n",
    "        self.features1 = nn.Sequential(\n",
    "            nn.Conv2d(3, 64, 3, padding = 100),\n",
    "            nn.ReLU(inplace = True),\n",
    "            nn.Conv2d(64, 64, 3, padding = 1),\n",
    "            nn.ReLU(inplace = True))\n",
    "    \n",
    "        self.features2 = nn.Sequential(\n",
    "            nn.Conv2d(64, 128, 3, padding = 1),\n",
    "            nn.ReLU(inplace = True),\n",
    "            nn.Conv2d(128, 128, 3, padding = 1),\n",
    "            nn.ReLU(inplace = True))\n",
    "        \n",
    "        self.features3 = nn.Sequential(\n",
    "            nn.Conv2d(128, 256, 3, padding = 1),\n",
    "            nn.ReLU(inplace = True),\n",
    "            nn.Conv2d(256, 256, 3, padding = 1),\n",
    "            nn.ReLU(inplace = True),\n",
    "            nn.Conv2d(256, 256, 3, padding = 1))\n",
    "        \n",
    "        self.features4 = nn.Sequential(\n",
    "            nn.Conv2d(256, 512, 3, padding = 1),\n",
    "            nn.ReLU(inplace = True),\n",
    "            nn.Conv2d(512, 512, 3, padding = 1),\n",
    "            nn.ReLU(inplace = True),\n",
    "            nn.Conv2d(512, 512, 3, padding = 1))\n",
    "                \n",
    "        self.features5 = nn.Sequential(\n",
    "            nn.Conv2d(512, 512, 3, padding = 1),\n",
    "            nn.ReLU(inplace = True),\n",
    "            nn.Conv2d(512, 512, 3, padding = 1),\n",
    "            nn.ReLU(inplace = True),\n",
    "            nn.Conv2d(512, 512, 3, padding = 1))\n",
    "        \n",
    "        self.maxpool = nn.MaxPool2d(2, stride = 2, ceil_mode = True)\n",
    "\n",
    "        self.classifier = nn.Sequential(\n",
    "            nn.Conv2d(512, 4096, 7),\n",
    "            nn.ReLU(inplace = True),\n",
    "            nn.Dropout2d(),\n",
    "            nn.Conv2d(4096, 4096, 1),\n",
    "            nn.ReLU(inplace = True),\n",
    "            nn.Dropout2d(),\n",
    "            nn.Conv2d(4096, num_class, 1))\n",
    "        \n",
    "        self.upscore2 = nn.ConvTranspose2d(num_class, num_class, kernel_size = 4, stride = 2, bias = False)\n",
    "        self.upscore4 = nn.ConvTranspose2d(num_class, num_class, kernel_size = 4, stride = 2, bias = False)\n",
    "        self.upscore8 = nn.ConvTranspose2d(num_class, num_class, kernel_size = 16, stride = 8, bias = False)\n",
    "        \n",
    "        self.score_pool4 = nn.Conv2d(512, num_class, 1)\n",
    "        self.score_pool3 = nn.Conv2d(256, num_class, 1)\n",
    "        \n",
    "        self.params = [self.features1, self.features2, self.features3, \n",
    "                       self.features4, self.features5]\n",
    "        \n",
    "    def upsample(self, x, size):\n",
    "        return nn.functional.upsample(x, size = size, mode = 'bilinear')\n",
    "                             \n",
    "    def forward(self, inputs):\n",
    "        x = self.features1(inputs)\n",
    "        pool1 = self.maxpool(x)\n",
    "        x = self.features2(pool1)\n",
    "        pool2 = self.maxpool(x)\n",
    "        x = self.features3(pool2)\n",
    "        pool3 = self.maxpool(x)\n",
    "        x = self.features4(pool3)\n",
    "        pool4 = self.maxpool(x)\n",
    "        x = self.features5(pool4)\n",
    "        pool5 = self.maxpool(x)\n",
    "        x = self.classifier(pool5)\n",
    "        \n",
    "        # also use getattr with for loop ...\n",
    "        x = self.upscore2(x)\n",
    "        \n",
    "        pool4 = self.score_pool4(pool4)\n",
    "        pool4 = pool4[:, :, 5:5 + x.size()[2], 5:5 + x.size()[3]]\n",
    "        x = torch.add(x, pool4)\n",
    "        \n",
    "        x = self.upscore4(x)\n",
    "        \n",
    "        pool3 = self.score_pool3(pool3)\n",
    "        pool3 = pool3[:, :, 9:9 + x.size()[2], 9:9 + x.size()[3]]\n",
    "        x = torch.add(x, pool3)\n",
    "        \n",
    "        x = self.upscore8(x)\n",
    "        x = x[:, :, 33:33 + inputs.size()[2], 33:33 + inputs.size()[3]]\n",
    "        return x\n",
    "    \n",
    "    def copy_params(self, vgg):\n",
    "        for l1, l2 in zip(vgg.features, self.params):\n",
    "            if (isinstance(l1, nn.Conv2d) and isinstance(l2, nn.Conv2d)):\n",
    "                assert l1.weight.size() == l2.weight.size()\n",
    "                assert l1.bias.size() == l2.bias.size()\n",
    "                l2.weight.data = l1.weight.data\n",
    "                l2.bias.data = l1.bias.data"
   ]
  },
  {
   "cell_type": "markdown",
   "metadata": {
    "tags": []
   },
   "source": [
    "# U-Net\n",
    "\n",
    "\n",
    "-  U-Net model  \n",
    "![unet](./resources/unet.png \"Variable\")"
   ]
  },
  {
   "cell_type": "markdown",
   "metadata": {
    "tags": []
   },
   "source": [
    "- EncoderBlock\n",
    "    \n",
    "    - conv2d in -> out (kernel = 3)\n",
    "    - batchnorm2d\n",
    "    - relu\n",
    "    - conv2d out -> out (kernel = 3\n",
    "    - batchnorm2d\n",
    "    - relu\n",
    "    - dropout\n",
    "    - maxpool (kernel = 2, sride = 2)\n",
    "\n",
    "\n",
    "- DecoderBlock\n",
    "    \n",
    "    - conv2d in -> middle (kernel = 3)\n",
    "    - batchnorm2d\n",
    "    - relu\n",
    "    - conv2d middle -> middle (kernel = 3)\n",
    "    - batchnorm2d\n",
    "    - relu\n",
    "    - convtranspose2d middle -> out (kernel = 3, stride = 2) "
   ]
  },
  {
   "cell_type": "code",
   "execution_count": 19,
   "metadata": {
    "tags": []
   },
   "outputs": [],
   "source": [
    "\n",
    "class _EncoderBlock(nn.Module):\n",
    "    def __init__(self, in_channels, out_channels, dropout=False):\n",
    "        super(_EncoderBlock, self).__init__()\n",
    "        # TODO\n",
    "        layers = [\n",
    "            nn.Conv2d(in_channels, out_channels, kernel_size = 3, stride = 1, padding = 0),\n",
    "            nn.BatchNorm2d(out_channels),\n",
    "            nn.ReLU(),\n",
    "            nn.Conv2d(out_channels, out_channels, kernel_size = 3, stride = 1, padding = 0),\n",
    "            nn.BatchNorm2d(out_channels),\n",
    "            nn.ReLU()\n",
    "            # Conv2d (kernel_size 3, stride 1, no padding) - BatchNorm2d - ReLU - \n",
    "            # Conv2d (kernel_size 3, stride 1, no padding) - BatchNorm2d - ReLU\n",
    "        ]\n",
    "        if dropout:\n",
    "            layers.append(nn.Dropout())\n",
    "        layers.append(nn.MaxPool2d(kernel_size=2, stride=2))\n",
    "        self.encode = nn.Sequential(*layers)\n",
    "\n",
    "    def forward(self, x):\n",
    "        return self.encode(x)\n",
    "\n",
    "\n",
    "class _DecoderBlock(nn.Module):\n",
    "    def __init__(self, in_channels, middle_channels, out_channels):\n",
    "        super(_DecoderBlock, self).__init__()\n",
    "        # TODO\n",
    "        self.decode = nn.Sequential(\n",
    "            # Conv2d (kernel_size 3, stride 1, no padding) - BatchNorm2d - ReLU - \n",
    "            # Conv2d (kernel_size 3, stride 1, no padding) - BatchNorm2d - ReLU - \n",
    "            # ConvTranspose2d (kernel_size 2, stride 2)\n",
    "            nn.Conv2d(in_channels, middle_channels, kernel_size = 3, stride = 1, padding = 0),\n",
    "            nn.BatchNorm2d(middle_channels),\n",
    "            nn.ReLU(),\n",
    "            nn.Conv2d(middle_channels, out_channels, kernel_size = 3, stride = 1, padding = 0),\n",
    "            nn.BatchNorm2d(out_channels),\n",
    "            nn.ReLU(),\n",
    "            nn.ConvTranspose2d(out_channels, out_channels, kernel_size = 2, stride = 2)\n",
    "        )\n",
    "\n",
    "    def forward(self, x):\n",
    "        return self.decode(x)\n",
    "\n",
    "\n",
    "class UNet(nn.Module):\n",
    "    def __init__(self, num_classes, num_channels=4):\n",
    "        super(UNet, self).__init__()\n",
    "        self.enc1 = _EncoderBlock(3, num_channels)\n",
    "        self.enc2 = _EncoderBlock(num_channels, num_channels*2)\n",
    "        self.enc3 = _EncoderBlock(num_channels*2, num_channels*4)\n",
    "        self.enc4 = _EncoderBlock(num_channels*4, num_channels*8, dropout=True)\n",
    "        self.center = _DecoderBlock(num_channels*8, num_channels*16, num_channels*8)\n",
    "        self.dec4 = _DecoderBlock(num_channels*16, num_channels*8, num_channels*4)\n",
    "        self.dec3 = _DecoderBlock(num_channels*8, num_channels*4, num_channels*2)\n",
    "        self.dec2 = _DecoderBlock(num_channels*4, num_channels*2, num_channels)\n",
    "        self.dec1 = nn.Sequential(\n",
    "            nn.Conv2d(num_channels*2, num_channels, kernel_size=3),\n",
    "            nn.BatchNorm2d(num_channels),\n",
    "            nn.ReLU(inplace=True),\n",
    "            nn.Conv2d(num_channels, num_channels, kernel_size=3),\n",
    "            nn.BatchNorm2d(num_channels),\n",
    "            nn.ReLU(inplace=True),\n",
    "        )\n",
    "        self.final = nn.Conv2d(num_channels, num_classes, kernel_size=1)\n",
    "        \n",
    "\n",
    "    def forward(self, x):\n",
    "        enc1 = self.enc1(x)\n",
    "        enc2 = self.enc2(enc1)\n",
    "        enc3 = self.enc3(enc2)\n",
    "        enc4 = self.enc4(enc3)\n",
    "        center = self.center(enc4)\n",
    "        dec4 = self.dec4(torch.cat([center, F.upsample(enc4, center.size()[2:], mode='bilinear')], 1))\n",
    "        dec3 = self.dec3(torch.cat([dec4, F.upsample(enc3, dec4.size()[2:], mode='bilinear')], 1))\n",
    "        dec2 = self.dec2(torch.cat([dec3, F.upsample(enc2, dec3.size()[2:], mode='bilinear')], 1))\n",
    "        dec1 = self.dec1(torch.cat([dec2, F.upsample(enc1, dec2.size()[2:], mode='bilinear')], 1))\n",
    "        final = self.final(dec1)\n",
    "        return F.upsample(final, x.size()[2:], mode='bilinear')"
   ]
  },
  {
   "cell_type": "markdown",
   "metadata": {
    "tags": []
   },
   "source": [
    "## Visualization"
   ]
  },
  {
   "cell_type": "code",
   "execution_count": 20,
   "metadata": {
    "tags": []
   },
   "outputs": [],
   "source": [
    "from PIL import Image # import \n",
    "def visualization(net, image, epoch, device):\n",
    "    \n",
    "    if not os.path.exists('./output'):\n",
    "        os.makedirs('./output')\n",
    "    \n",
    "    net.to('cpu')\n",
    "    mean_bgr = np.array([104.00698793, 116.66876762, 122.67891434])\n",
    "    img = image\n",
    "    img = np.array(img, dtype = np.uint8)\n",
    "    img = img[:, :, ::-1] # channel RGB -> BGR\n",
    "    img = img.astype(np.float64)\n",
    "    img -= mean_bgr\n",
    "    img = img.transpose(2, 0, 1) # H W C -> C H W\n",
    "    img = torch.from_numpy(img).float()\n",
    "    img = img.unsqueeze(0)\n",
    "\n",
    "    score = net(img)\n",
    "    lbl_pred = score.data.max(1)[1].cpu().numpy()\n",
    "    lbl_pred = np.squeeze(lbl_pred)\n",
    "\n",
    "    Image.fromarray((lbl_pred * 255).astype(np.uint8)).save('./output/mask_'+str(epoch+1)+'.png')\n",
    "    \n",
    "    input_img = image\n",
    "    input_img = np.array(input_img, dtype = np.uint8)\n",
    "    color = [0, 255, 0, 127] \n",
    "    color = np.array(color).reshape(1, 4)\n",
    "    shape = input_img.shape\n",
    "    segmentation = lbl_pred.reshape(shape[0], shape[1], 1)\n",
    "    output = np.dot(segmentation, color)\n",
    "\n",
    "    output = Image.fromarray(output.astype(np.uint8))\n",
    "    background = Image.fromarray(input_img.astype(np.uint8))\n",
    "    background.paste(output, box = None, mask = output)\n",
    "    background.save('./output/overlay_'+str(epoch+1)+'.png')\n",
    "\n",
    "    net.to(device)\n",
    "    "
   ]
  },
  {
   "cell_type": "markdown",
   "metadata": {},
   "source": [
    "# Train"
   ]
  },
  {
   "cell_type": "code",
   "execution_count": 23,
   "metadata": {},
   "outputs": [
    {
     "name": "stdout",
     "output_type": "stream",
     "text": [
      "current epoch : 0\n",
      "batch : 0, loss : 0.660417\n",
      "batch : 20, loss : 0.553231\n",
      "batch : 40, loss : 0.520429\n",
      "batch : 60, loss : 0.515565\n",
      "batch : 80, loss : 0.442674\n",
      "batch : 100, loss : 0.399968\n",
      "batch : 120, loss : 0.380938\n",
      "batch : 140, loss : 0.502446\n",
      "batch : 160, loss : 0.368732\n",
      "batch : 180, loss : 0.287999\n",
      "batch : 200, loss : 0.340920\n",
      "batch : 220, loss : 0.266162\n",
      "batch : 240, loss : 0.243613\n",
      "val loss : 0.284120\n",
      "current epoch : 1\n",
      "batch : 0, loss : 0.248056\n",
      "batch : 20, loss : 0.236872\n",
      "batch : 40, loss : 0.304078\n",
      "batch : 60, loss : 0.231246\n",
      "batch : 80, loss : 0.237917\n",
      "batch : 100, loss : 0.229018\n",
      "batch : 120, loss : 0.182315\n",
      "batch : 140, loss : 0.184919\n",
      "batch : 160, loss : 0.185622\n",
      "batch : 180, loss : 0.196993\n",
      "batch : 200, loss : 0.247602\n",
      "batch : 220, loss : 0.151647\n",
      "batch : 240, loss : 0.225709\n",
      "val loss : 0.190681\n",
      "current epoch : 2\n",
      "batch : 0, loss : 0.196653\n",
      "batch : 20, loss : 0.143057\n",
      "batch : 40, loss : 0.099741\n",
      "batch : 60, loss : 0.176203\n",
      "batch : 80, loss : 0.122460\n",
      "batch : 100, loss : 0.200544\n",
      "batch : 120, loss : 0.118518\n",
      "batch : 140, loss : 0.437659\n",
      "batch : 160, loss : 0.160079\n",
      "batch : 180, loss : 0.122707\n",
      "batch : 200, loss : 0.090549\n",
      "batch : 220, loss : 0.091670\n",
      "batch : 240, loss : 0.095686\n",
      "val loss : 0.153127\n",
      "current epoch : 3\n",
      "batch : 0, loss : 0.155592\n",
      "batch : 20, loss : 0.175594\n",
      "batch : 40, loss : 0.083745\n",
      "batch : 60, loss : 0.103011\n",
      "batch : 80, loss : 0.126221\n",
      "batch : 100, loss : 0.090577\n",
      "batch : 120, loss : 0.098409\n",
      "batch : 140, loss : 0.107486\n",
      "batch : 160, loss : 0.077006\n",
      "batch : 180, loss : 0.097095\n",
      "batch : 200, loss : 0.064064\n",
      "batch : 220, loss : 0.118945\n",
      "batch : 240, loss : 0.138961\n",
      "val loss : 0.159959\n",
      "current epoch : 4\n",
      "batch : 0, loss : 0.090707\n",
      "batch : 20, loss : 0.126879\n",
      "batch : 40, loss : 0.068674\n",
      "batch : 60, loss : 0.127534\n",
      "batch : 80, loss : 0.072160\n",
      "batch : 100, loss : 0.079252\n",
      "batch : 120, loss : 0.126217\n",
      "batch : 140, loss : 0.101978\n",
      "batch : 160, loss : 0.173868\n",
      "batch : 180, loss : 0.073533\n",
      "batch : 200, loss : 0.355792\n",
      "batch : 220, loss : 0.087678\n",
      "batch : 240, loss : 0.149353\n",
      "val loss : 0.148501\n",
      "Finished Training\n"
     ]
    }
   ],
   "source": [
    "import torch.optim as optim\n",
    "\n",
    "num_class = 2\n",
    "net = UNet(num_class)\n",
    "    \n",
    "device = \"cpu\" # cuda  / cuda:0  / ...\n",
    "net = net.to(device)\n",
    "\n",
    "training_epochs = 5 \n",
    "\n",
    "# TODO\n",
    "# criterion : Cross entropy loss\n",
    "# optimizer : Adam, learning weight=1e-3\n",
    "criterion = nn.CrossEntropyLoss()\n",
    "optimizer = optim.Adam(net.parameters(), lr = 1e-3)\n",
    "\n",
    "\n",
    "for epoch in range(training_epochs):\n",
    "    print ('current epoch : %d'%(epoch))\n",
    "    # training\n",
    "    net.train()\n",
    "    for batch_idx, (data, target) in enumerate(train_loader):\n",
    "        # TODO\n",
    "        # data to device\n",
    "        data, target = data.to(device), target.to(device)\n",
    "        \n",
    "        # forward\n",
    "        score = net(data)\n",
    "        \n",
    "        # loss using defined criterion\n",
    "        loss = criterion(score, target)\n",
    "        \n",
    "        # update : backward, step, zero_grad\n",
    "        \n",
    "        loss.backward()\n",
    "        optimizer.step()\n",
    "        optimizer.zero_grad()\n",
    "        \n",
    "        if batch_idx % 20 ==0:\n",
    "            print ('batch : %d, loss : %f'%(batch_idx, loss.item()))\n",
    "        \n",
    "    #validation\n",
    "    net.eval()\n",
    "    \n",
    "    val_loss = 0\n",
    "\n",
    "    for batch_idx, (data, target) in enumerate(val_loader):\n",
    "        # TODO\n",
    "        # load data\n",
    "        data, target = data.to(device), target.to(device)\n",
    "        # forward\n",
    "        score = net(data)\n",
    "        \n",
    "        # loss\n",
    "        loss = criterion(score, target)\n",
    "        \n",
    "        val_loss += loss.item() / len(data)\n",
    "            \n",
    "    val_loss /= len(val_loader)\n",
    "    print ('val loss : %f'%val_loss)\n",
    "        \n",
    "    #visualization\n",
    "    img = PIL.Image.open('./data/Kitti/data_road/testing/image_2/um_000081.png')\n",
    "    visualization(net, img, epoch, device)\n",
    "    \n",
    "        \n",
    "print('Finished Training')\n"
   ]
  },
  {
   "cell_type": "markdown",
   "metadata": {},
   "source": [
    "# Save the trained model"
   ]
  },
  {
   "cell_type": "code",
   "execution_count": 24,
   "metadata": {},
   "outputs": [],
   "source": [
    "torch.save(net.state_dict(), 'trained_model.pkl')"
   ]
  },
  {
   "cell_type": "markdown",
   "metadata": {},
   "source": [
    "# Output\n",
    "\n",
    "'output' 폴더에서 결과 확인"
   ]
  },
  {
   "cell_type": "code",
   "execution_count": 25,
   "metadata": {},
   "outputs": [
    {
     "data": {
      "image/png": "[encoded data removed]",
      "text/plain": [
       "<Figure size 432x288 with 1 Axes>"
      ]
     },
     "metadata": {
      "needs_background": "light"
     },
     "output_type": "display_data"
    },
    {
     "data": {
      "image/png": "[encoded data removed]",
      "text/plain": [
       "<Figure size 432x288 with 1 Axes>"
      ]
     },
     "metadata": {
      "needs_background": "light"
     },
     "output_type": "display_data"
    }
   ],
   "source": [
    "from matplotlib import pyplot as plt \n",
    "\n",
    "\n",
    "# show image using matplotlib\n",
    "\n",
    "img = PIL.Image.open('./output/overlay_1.png')\n",
    "mask = PIL.Image.open('./output/mask_1.png')\n",
    "plt.imshow(img), plt.title('Label map Overlay');\n",
    "plt.figure(), plt.imshow(mask), plt.title('Mask');"
   ]
  },
  {
   "cell_type": "markdown",
   "metadata": {},
   "source": [
    "# Load trained model and test"
   ]
  },
  {
   "cell_type": "code",
   "execution_count": 26,
   "metadata": {},
   "outputs": [
    {
     "name": "stderr",
     "output_type": "stream",
     "text": [
      "/home/piai/anaconda3/envs/cv-course/lib/python3.8/site-packages/torch/nn/functional.py:2416: UserWarning: nn.functional.upsample is deprecated. Use nn.functional.interpolate instead.\n",
      "  warnings.warn(\"nn.functional.upsample is deprecated. Use nn.functional.interpolate instead.\")\n",
      "/home/piai/anaconda3/envs/cv-course/lib/python3.8/site-packages/torch/nn/functional.py:2503: UserWarning: Default upsampling behavior when mode=bilinear is changed to align_corners=False since 0.4.0. Please specify align_corners=True if the old behavior is desired. See the documentation of nn.Upsample for details.\n",
      "  warnings.warn(\"Default upsampling behavior when mode={} is changed \"\n"
     ]
    },
    {
     "name": "stdout",
     "output_type": "stream",
     "text": [
      "val loss : 0.148501\n"
     ]
    }
   ],
   "source": [
    "device = \"cpu\" # cuda  / cuda:0  / ...\n",
    "\n",
    "net = UNet(2)\n",
    "    \n",
    "net = net.to(device)\n",
    "\n",
    "net.load_state_dict(torch.load('trained_model.pkl'))\n",
    "\n",
    "# validation\n",
    "net.eval()\n",
    "\n",
    "val_loss = 0\n",
    "\n",
    "for batch_idx, (data, target) in enumerate(val_loader):\n",
    "    # TODO\n",
    "    # load data\n",
    "    data, target = data.to(device), target.to(device)\n",
    "    # forward\n",
    "    score = net(data)\n",
    "\n",
    "    loss = criterion(score, target)\n",
    "    val_loss += loss.item() / len(data)\n",
    "\n",
    "val_loss /= len(val_loader)\n",
    "print ('val loss : %f'%val_loss)\n",
    "\n",
    "#visualization\n",
    "img = PIL.Image.open('./data/Kitti/data_road/testing/image_2/um_000081.png')\n",
    "visualization(net, img, 999, device)"
   ]
  },
  {
   "cell_type": "markdown",
   "metadata": {},
   "source": [
    "# Optional homework\n",
    "## Improving the segmentation model\n",
    "\n",
    "> 모델의 성능을 개선하는 방법은 다양합니다. 모델의 parameter 수를 늘리는 방법도 있고, optimizer를 변경하거나 learning rate, batch size를 변경하는 방법도 있습니다. 그리고 loss function을 변경하는 방법도 있습니다. "
   ]
  },
  {
   "cell_type": "code",
   "execution_count": null,
   "metadata": {},
   "outputs": [],
   "source": []
  },
  {
   "cell_type": "code",
   "execution_count": null,
   "metadata": {},
   "outputs": [],
   "source": []
  },
  {
   "cell_type": "code",
   "execution_count": null,
   "metadata": {},
   "outputs": [],
   "source": []
  },
  {
   "cell_type": "code",
   "execution_count": null,
   "metadata": {},
   "outputs": [],
   "source": []
  },
  {
   "cell_type": "code",
   "execution_count": null,
   "metadata": {},
   "outputs": [],
   "source": []
  },
  {
   "cell_type": "code",
   "execution_count": null,
   "metadata": {},
   "outputs": [],
   "source": []
  },
  {
   "cell_type": "code",
   "execution_count": null,
   "metadata": {},
   "outputs": [],
   "source": []
  },
  {
   "cell_type": "code",
   "execution_count": null,
   "metadata": {},
   "outputs": [],
   "source": []
  },
  {
   "cell_type": "code",
   "execution_count": null,
   "metadata": {},
   "outputs": [],
   "source": []
  },
  {
   "cell_type": "code",
   "execution_count": null,
   "metadata": {},
   "outputs": [],
   "source": []
  },
  {
   "cell_type": "code",
   "execution_count": null,
   "metadata": {},
   "outputs": [],
   "source": []
  },
  {
   "cell_type": "code",
   "execution_count": null,
   "metadata": {},
   "outputs": [],
   "source": []
  },
  {
   "cell_type": "code",
   "execution_count": null,
   "metadata": {},
   "outputs": [],
   "source": []
  },
  {
   "cell_type": "code",
   "execution_count": null,
   "metadata": {},
   "outputs": [],
   "source": []
  }
 ],
 "metadata": {
  "kernelspec": {
   "display_name": "Python 3 (ipykernel)",
   "language": "python",
   "name": "python3"
  },
  "language_info": {
   "codemirror_mode": {
    "name": "ipython",
    "version": 3
   },
   "file_extension": ".py",
   "mimetype": "text/x-python",
   "name": "python",
   "nbconvert_exporter": "python",
   "pygments_lexer": "ipython3",
   "version": "3.8.13"
  }
 },
 "nbformat": 4,
 "nbformat_minor": 4
}
